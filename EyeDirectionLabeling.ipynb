{
  "cells": [
    {
      "cell_type": "markdown",
      "metadata": {
        "id": "I7JTBql0KNgw"
      },
      "source": [
        "# Eye Direction Labeling\n",
        "The following note book is a machine learing CNN model using pytorch to label the direction of eyes in images. It uses the open source data from the eye-dataset on kaggle posted by kayvanshah. https://www.kaggle.com/datasets/kayvanshah/eye-dataset\n",
        "\n",
        "The original intent for the dataset was for automating an wheelchair, but we are repurposing it for future uses in eye tracking.\n",
        "\n",
        "The data consists of four folder and comprising a total of 14.5k images with the labels\n",
        "- close_look : images of closed eye,\n",
        "- left_look : images of eye looking at left,\n",
        "- right_look : images of eye looking at right,\n",
        "- forward_look : images of eye looking straight.\n",
        "\n"
      ]
    },
    {
      "cell_type": "markdown",
      "metadata": {
        "id": "FVqjfVJ9LC4F"
      },
      "source": [
        "## Install the necessary python libraries\n",
        "This is a step needed if you don't have these libraries or if running the code for the first time in colab."
      ]
    },
    {
      "cell_type": "code",
      "execution_count": null,
      "metadata": {
        "colab": {
          "background_save": true,
          "base_uri": "https://localhost:8080/"
        },
        "id": "ufGT3j-Yx5JU",
        "outputId": "65310dc4-fcdd-4237-f677-16e13485a26b"
      },
      "outputs": [
        {
          "name": "stdout",
          "output_type": "stream",
          "text": [
            "Requirement already satisfied: torch in /usr/local/lib/python3.10/dist-packages (2.2.1+cu121)\n",
            "Requirement already satisfied: torchvision in /usr/local/lib/python3.10/dist-packages (0.17.1+cu121)\n",
            "Requirement already satisfied: filelock in /usr/local/lib/python3.10/dist-packages (from torch) (3.13.1)\n",
            "Requirement already satisfied: typing-extensions>=4.8.0 in /usr/local/lib/python3.10/dist-packages (from torch) (4.10.0)\n",
            "Requirement already satisfied: sympy in /usr/local/lib/python3.10/dist-packages (from torch) (1.12)\n",
            "Requirement already satisfied: networkx in /usr/local/lib/python3.10/dist-packages (from torch) (3.2.1)\n",
            "Requirement already satisfied: jinja2 in /usr/local/lib/python3.10/dist-packages (from torch) (3.1.3)\n",
            "Requirement already satisfied: fsspec in /usr/local/lib/python3.10/dist-packages (from torch) (2023.6.0)\n",
            "Collecting nvidia-cuda-nvrtc-cu12==12.1.105 (from torch)\n",
            "  Downloading nvidia_cuda_nvrtc_cu12-12.1.105-py3-none-manylinux1_x86_64.whl (23.7 MB)\n",
            "\u001b[2K     \u001b[90m━━━━━━━━━━━━━━━━━━━━━━━━━━━━━━━━━━━━━━━━\u001b[0m \u001b[32m23.7/23.7 MB\u001b[0m \u001b[31m24.6 MB/s\u001b[0m eta \u001b[36m0:00:00\u001b[0m\n",
            "\u001b[?25hCollecting nvidia-cuda-runtime-cu12==12.1.105 (from torch)\n",
            "  Downloading nvidia_cuda_runtime_cu12-12.1.105-py3-none-manylinux1_x86_64.whl (823 kB)\n",
            "\u001b[2K     \u001b[90m━━━━━━━━━━━━━━━━━━━━━━━━━━━━━━━━━━━━━━━━\u001b[0m \u001b[32m823.6/823.6 kB\u001b[0m \u001b[31m25.2 MB/s\u001b[0m eta \u001b[36m0:00:00\u001b[0m\n",
            "\u001b[?25hCollecting nvidia-cuda-cupti-cu12==12.1.105 (from torch)\n",
            "  Downloading nvidia_cuda_cupti_cu12-12.1.105-py3-none-manylinux1_x86_64.whl (14.1 MB)\n",
            "\u001b[2K     \u001b[90m━━━━━━━━━━━━━━━━━━━━━━━━━━━━━━━━━━━━━━━━\u001b[0m \u001b[32m14.1/14.1 MB\u001b[0m \u001b[31m24.9 MB/s\u001b[0m eta \u001b[36m0:00:00\u001b[0m\n",
            "\u001b[?25hCollecting nvidia-cudnn-cu12==8.9.2.26 (from torch)\n",
            "  Downloading nvidia_cudnn_cu12-8.9.2.26-py3-none-manylinux1_x86_64.whl (731.7 MB)\n",
            "\u001b[2K     \u001b[90m━━━━━━━━━━━━━━━━━━━━━━━━━━━━━━━━━━━━━━━━\u001b[0m \u001b[32m731.7/731.7 MB\u001b[0m \u001b[31m1.1 MB/s\u001b[0m eta \u001b[36m0:00:00\u001b[0m\n",
            "\u001b[?25hCollecting nvidia-cublas-cu12==12.1.3.1 (from torch)\n",
            "  Downloading nvidia_cublas_cu12-12.1.3.1-py3-none-manylinux1_x86_64.whl (410.6 MB)\n",
            "\u001b[2K     \u001b[90m━━━━━━━━━━━━━━━━━━━━━━━━━━━━━━━━━━━━━━━━\u001b[0m \u001b[32m410.6/410.6 MB\u001b[0m \u001b[31m3.2 MB/s\u001b[0m eta \u001b[36m0:00:00\u001b[0m\n",
            "\u001b[?25hCollecting nvidia-cufft-cu12==11.0.2.54 (from torch)\n",
            "  Downloading nvidia_cufft_cu12-11.0.2.54-py3-none-manylinux1_x86_64.whl (121.6 MB)\n",
            "\u001b[2K     \u001b[90m━━━━━━━━━━━━━━━━━━━━━━━━━━━━━━━━━━━━━━━━\u001b[0m \u001b[32m121.6/121.6 MB\u001b[0m \u001b[31m8.5 MB/s\u001b[0m eta \u001b[36m0:00:00\u001b[0m\n",
            "\u001b[?25hCollecting nvidia-curand-cu12==10.3.2.106 (from torch)\n",
            "  Downloading nvidia_curand_cu12-10.3.2.106-py3-none-manylinux1_x86_64.whl (56.5 MB)\n",
            "\u001b[2K     \u001b[90m━━━━━━━━━━━━━━━━━━━━━━━━━━━━━━━━━━━━━━━━\u001b[0m \u001b[32m56.5/56.5 MB\u001b[0m \u001b[31m8.8 MB/s\u001b[0m eta \u001b[36m0:00:00\u001b[0m\n",
            "\u001b[?25hCollecting nvidia-cusolver-cu12==11.4.5.107 (from torch)\n",
            "  Downloading nvidia_cusolver_cu12-11.4.5.107-py3-none-manylinux1_x86_64.whl (124.2 MB)\n",
            "\u001b[2K     \u001b[90m━━━━━━━━━━━━━━━━━━━━━━━━━━━━━━━━━━━━━━━━\u001b[0m \u001b[32m124.2/124.2 MB\u001b[0m \u001b[31m8.5 MB/s\u001b[0m eta \u001b[36m0:00:00\u001b[0m\n",
            "\u001b[?25hCollecting nvidia-cusparse-cu12==12.1.0.106 (from torch)\n",
            "  Downloading nvidia_cusparse_cu12-12.1.0.106-py3-none-manylinux1_x86_64.whl (196.0 MB)\n",
            "\u001b[2K     \u001b[90m━━━━━━━━━━━━━━━━━━━━━━━━━━━━━━━━━━━━━━━━\u001b[0m \u001b[32m196.0/196.0 MB\u001b[0m \u001b[31m2.3 MB/s\u001b[0m eta \u001b[36m0:00:00\u001b[0m\n",
            "\u001b[?25hCollecting nvidia-nccl-cu12==2.19.3 (from torch)\n",
            "  Downloading nvidia_nccl_cu12-2.19.3-py3-none-manylinux1_x86_64.whl (166.0 MB)\n",
            "\u001b[2K     \u001b[90m━━━━━━━━━━━━━━━━━━━━━━━━━━━━━━━━━━━━━━━━\u001b[0m \u001b[32m166.0/166.0 MB\u001b[0m \u001b[31m2.2 MB/s\u001b[0m eta \u001b[36m0:00:00\u001b[0m\n",
            "\u001b[?25hCollecting nvidia-nvtx-cu12==12.1.105 (from torch)\n",
            "  Downloading nvidia_nvtx_cu12-12.1.105-py3-none-manylinux1_x86_64.whl (99 kB)\n",
            "\u001b[2K     \u001b[90m━━━━━━━━━━━━━━━━━━━━━━━━━━━━━━━━━━━━━━━━\u001b[0m \u001b[32m99.1/99.1 kB\u001b[0m \u001b[31m10.2 MB/s\u001b[0m eta \u001b[36m0:00:00\u001b[0m\n",
            "\u001b[?25hRequirement already satisfied: triton==2.2.0 in /usr/local/lib/python3.10/dist-packages (from torch) (2.2.0)\n",
            "Collecting nvidia-nvjitlink-cu12 (from nvidia-cusolver-cu12==11.4.5.107->torch)\n",
            "  Downloading nvidia_nvjitlink_cu12-12.4.99-py3-none-manylinux2014_x86_64.whl (21.1 MB)\n",
            "\u001b[2K     \u001b[90m━━━━━━━━━━━━━━━━━━━━━━━━━━━━━━━━━━━━━━━━\u001b[0m \u001b[32m21.1/21.1 MB\u001b[0m \u001b[31m70.2 MB/s\u001b[0m eta \u001b[36m0:00:00\u001b[0m\n",
            "\u001b[?25hRequirement already satisfied: numpy in /usr/local/lib/python3.10/dist-packages (from torchvision) (1.25.2)\n",
            "Requirement already satisfied: pillow!=8.3.*,>=5.3.0 in /usr/local/lib/python3.10/dist-packages (from torchvision) (9.4.0)\n",
            "Requirement already satisfied: MarkupSafe>=2.0 in /usr/local/lib/python3.10/dist-packages (from jinja2->torch) (2.1.5)\n",
            "Requirement already satisfied: mpmath>=0.19 in /usr/local/lib/python3.10/dist-packages (from sympy->torch) (1.3.0)\n",
            "Installing collected packages: nvidia-nvtx-cu12, nvidia-nvjitlink-cu12, nvidia-nccl-cu12, nvidia-curand-cu12, nvidia-cufft-cu12, nvidia-cuda-runtime-cu12, nvidia-cuda-nvrtc-cu12, nvidia-cuda-cupti-cu12, nvidia-cublas-cu12, nvidia-cusparse-cu12, nvidia-cudnn-cu12, nvidia-cusolver-cu12\n",
            "Successfully installed nvidia-cublas-cu12-12.1.3.1 nvidia-cuda-cupti-cu12-12.1.105 nvidia-cuda-nvrtc-cu12-12.1.105 nvidia-cuda-runtime-cu12-12.1.105 nvidia-cudnn-cu12-8.9.2.26 nvidia-cufft-cu12-11.0.2.54 nvidia-curand-cu12-10.3.2.106 nvidia-cusolver-cu12-11.4.5.107 nvidia-cusparse-cu12-12.1.0.106 nvidia-nccl-cu12-2.19.3 nvidia-nvjitlink-cu12-12.4.99 nvidia-nvtx-cu12-12.1.105\n",
            "Collecting opendatasets\n",
            "  Downloading opendatasets-0.1.22-py3-none-any.whl (15 kB)\n",
            "Requirement already satisfied: tqdm in /usr/local/lib/python3.10/dist-packages (from opendatasets) (4.66.2)\n",
            "Requirement already satisfied: kaggle in /usr/local/lib/python3.10/dist-packages (from opendatasets) (1.5.16)\n",
            "Requirement already satisfied: click in /usr/local/lib/python3.10/dist-packages (from opendatasets) (8.1.7)\n",
            "Requirement already satisfied: six>=1.10 in /usr/local/lib/python3.10/dist-packages (from kaggle->opendatasets) (1.16.0)\n",
            "Requirement already satisfied: certifi in /usr/local/lib/python3.10/dist-packages (from kaggle->opendatasets) (2024.2.2)\n",
            "Requirement already satisfied: python-dateutil in /usr/local/lib/python3.10/dist-packages (from kaggle->opendatasets) (2.8.2)\n",
            "Requirement already satisfied: requests in /usr/local/lib/python3.10/dist-packages (from kaggle->opendatasets) (2.31.0)\n",
            "Requirement already satisfied: python-slugify in /usr/local/lib/python3.10/dist-packages (from kaggle->opendatasets) (8.0.4)\n",
            "Requirement already satisfied: urllib3 in /usr/local/lib/python3.10/dist-packages (from kaggle->opendatasets) (2.0.7)\n",
            "Requirement already satisfied: bleach in /usr/local/lib/python3.10/dist-packages (from kaggle->opendatasets) (6.1.0)\n",
            "Requirement already satisfied: webencodings in /usr/local/lib/python3.10/dist-packages (from bleach->kaggle->opendatasets) (0.5.1)\n",
            "Requirement already satisfied: text-unidecode>=1.3 in /usr/local/lib/python3.10/dist-packages (from python-slugify->kaggle->opendatasets) (1.3)\n",
            "Requirement already satisfied: charset-normalizer<4,>=2 in /usr/local/lib/python3.10/dist-packages (from requests->kaggle->opendatasets) (3.3.2)\n",
            "Requirement already satisfied: idna<4,>=2.5 in /usr/local/lib/python3.10/dist-packages (from requests->kaggle->opendatasets) (3.6)\n",
            "Installing collected packages: opendatasets\n",
            "Successfully installed opendatasets-0.1.22\n",
            "Collecting torcheval\n",
            "  Downloading torcheval-0.0.7-py3-none-any.whl (179 kB)\n",
            "\u001b[2K     \u001b[90m━━━━━━━━━━━━━━━━━━━━━━━━━━━━━━━━━━━━━━━━\u001b[0m \u001b[32m179.2/179.2 kB\u001b[0m \u001b[31m5.1 MB/s\u001b[0m eta \u001b[36m0:00:00\u001b[0m\n",
            "\u001b[?25hRequirement already satisfied: typing-extensions in /usr/local/lib/python3.10/dist-packages (from torcheval) (4.10.0)\n",
            "Installing collected packages: torcheval\n",
            "Successfully installed torcheval-0.0.7\n"
          ]
        }
      ],
      "source": [
        "#Installs (do as needed)\n",
        "!pip install torch torchvision\n",
        "!pip install opendatasets\n",
        "!pip install torcheval"
      ]
    },
    {
      "cell_type": "markdown",
      "metadata": {
        "id": "YKiHsYSGLONd"
      },
      "source": [
        "## Import all necessary python libraries\n"
      ]
    },
    {
      "cell_type": "code",
      "execution_count": null,
      "metadata": {
        "colab": {
          "background_save": true
        },
        "id": "APhjyuTxxtdz"
      },
      "outputs": [],
      "source": [
        "#Imports\n",
        "import opendatasets as od\n",
        "import torch\n",
        "from torchvision import datasets, transforms\n",
        "from torch.utils import data\n",
        "import os\n",
        "import cv2\n",
        "import matplotlib.pyplot as plt\n",
        "import torchvision\n",
        "from torcheval.metrics import MulticlassAccuracy\n",
        "import torcheval\n",
        "import numpy as np\n",
        "import random\n",
        "from google.colab.patches import cv2_imshow                                     # needed to use imshow from OpenCV in colab"
      ]
    },
    {
      "cell_type": "markdown",
      "metadata": {
        "id": "wOFyIGWULZLB"
      },
      "source": [
        "## Download data\n",
        "Must input your own kaggle username and password."
      ]
    },
    {
      "cell_type": "code",
      "execution_count": null,
      "metadata": {
        "colab": {
          "background_save": true,
          "base_uri": "https://localhost:8080/"
        },
        "id": "_xVYXVTJwX1i",
        "outputId": "bcb414c7-587e-4adc-c4fc-7a181adb19c4"
      },
      "outputs": [
        {
          "name": "stdout",
          "output_type": "stream",
          "text": [
            "Please provide your Kaggle credentials to download this dataset. Learn more: http://bit.ly/kaggle-creds\n",
            "Your Kaggle username:"
          ]
        }
      ],
      "source": [
        "#Download the eye data set for direction of eyes (input your username and password for kaggle)\n",
        "od.download(\"https://www.kaggle.com/datasets/kayvanshah/eye-dataset\")"
      ]
    },
    {
      "cell_type": "markdown",
      "metadata": {
        "id": "bjHZ51_sLl1W"
      },
      "source": [
        "## Get the dataset from the appropriate folder\n",
        "Transform to a tensor and crop the image size to 50x50\n"
      ]
    },
    {
      "cell_type": "code",
      "execution_count": null,
      "metadata": {
        "id": "AYX3Ds8UaqIt"
      },
      "outputs": [],
      "source": [
        "#get the dataset\n",
        "img_size =50 #this value can be altered\n",
        "dataset = datasets.ImageFolder(root = \"eye-dataset/Eye dataset/\", transform = transforms.Compose([\n",
        "        transforms.RandomResizedCrop(img_size),  # image size int or tuple\n",
        "        # Add more transforms here\n",
        "        transforms.ToTensor(),  # convert to tensor at the end\n",
        "]))"
      ]
    },
    {
      "cell_type": "code",
      "execution_count": null,
      "metadata": {
        "colab": {
          "base_uri": "https://localhost:8080/"
        },
        "id": "Ae0Ksjsqhy7Z",
        "outputId": "ef7f59cf-9992-471f-c562-d60f3f0d748f"
      },
      "outputs": [
        {
          "name": "stdout",
          "output_type": "stream",
          "text": [
            "{'close_look': 0, 'forward_look': 1, 'left_look': 2, 'right_look': 3}\n"
          ]
        }
      ],
      "source": [
        "print(dataset.class_to_idx) #this print out proves we are reading the code right to have the correct labels"
      ]
    },
    {
      "cell_type": "markdown",
      "metadata": {
        "id": "MjRWFOoAMTtk"
      },
      "source": [
        "## Prepare the data and form the train, test, and validation set"
      ]
    },
    {
      "cell_type": "code",
      "execution_count": null,
      "metadata": {
        "colab": {
          "base_uri": "https://localhost:8080/"
        },
        "id": "hacXDAqkadHy",
        "outputId": "770df7ed-5a09-482d-fdd8-100916ea146e"
      },
      "outputs": [
        {
          "name": "stdout",
          "output_type": "stream",
          "text": [
            "14360\n",
            "14360\n"
          ]
        }
      ],
      "source": [
        "# to generate random number list\n",
        "shuffle_list = random.sample(range(0,len(dataset)), len(dataset))\n",
        "\n",
        "#make the sizes for the different data set (sections)\n",
        "train_size = 4*len(dataset)//5\n",
        "test_size = int(0.1 * len(dataset) + train_size)\n",
        "val_size  = int(0.1 * len(dataset) + test_size)"
      ]
    },
    {
      "cell_type": "code",
      "execution_count": null,
      "metadata": {
        "id": "adGSi_jVzLrP"
      },
      "outputs": [],
      "source": [
        "#get the test and train data sets from random section of dataset\n",
        "\n",
        "# val_set = torch.utils.data.Subset(dataset,[0, 4*len(dataset)/5])\n",
        "train_set = torch.utils.data.Subset(dataset,shuffle_list[0:train_size]) #with labels\n",
        "test_set = torch.utils.data.Subset(dataset,shuffle_list[train_size:test_size])\n",
        "val_set = torch.utils.data.Subset(dataset,shuffle_list[test_size:val_size])\n",
        "\n",
        "#load the data for the model\n",
        "test_loader = data.DataLoader(test_set, batch_size = 100, shuffle=True)\n",
        "train_loader = data.DataLoader(train_set, batch_size = 100, shuffle=True)"
      ]
    },
    {
      "cell_type": "markdown",
      "metadata": {
        "id": "Jd3B24RTMHoI"
      },
      "source": [
        "## Set the model specifications"
      ]
    },
    {
      "cell_type": "code",
      "execution_count": null,
      "metadata": {
        "id": "vkcB6OQQRxgz"
      },
      "outputs": [],
      "source": [
        "# Define the model\n",
        "model = torch.nn.Sequential(\n",
        "    torch.nn.Conv2d(3, 6, 5),\n",
        "    torch.nn.ReLU(),\n",
        "    torch.nn.MaxPool2d(2, 2),\n",
        "    torch.nn.Conv2d(6, 16, 5),\n",
        "    torch.nn.ReLU(),\n",
        "    torch.nn.MaxPool2d(2, 2),\n",
        "    torch.nn.Conv2d(6, 16, 5),\n",
        "    torch.nn.ReLU(),\n",
        "    torch.nn.MaxPool2d(2, 2),\n",
        "    torch.nn.Flatten(start_dim = 1),\n",
        "    torch.nn.Linear(1296,120), #16 * 5 * 5, 120), #size of the output after flatten\n",
        "    torch.nn.ReLU(),\n",
        "    torch.nn.Linear(120,84),\n",
        "    torch.nn.ReLU(),\n",
        "    torch.nn.Linear(84,4), #total number pixels after flatten, number class\n",
        ")"
      ]
    },
    {
      "cell_type": "markdown",
      "metadata": {
        "id": "RxzzUkQOM5og"
      },
      "source": [
        "Define the optimizer, loss function, and epoch size for the model"
      ]
    },
    {
      "cell_type": "code",
      "execution_count": null,
      "metadata": {
        "id": "FXiuWNI7R9Te"
      },
      "outputs": [],
      "source": [
        "# Define the optimizer and loss function and epoch size\n",
        "optimizer = torch.optim.Adam(model.parameters(), lr=0.001 )\n",
        "loss_fn = torch.nn.CrossEntropyLoss()\n",
        "epoch = 100"
      ]
    },
    {
      "cell_type": "markdown",
      "metadata": {
        "id": "Uin359FmNG6-"
      },
      "source": [
        "## Load the model IF ALREADY RAN AND SAVED THE MODEL\n"
      ]
    },
    {
      "cell_type": "code",
      "execution_count": null,
      "metadata": {
        "id": "1HHAbn4lSCjZ"
      },
      "outputs": [],
      "source": [
        "# Load the training data\n",
        "train_data = torch.load('train_data.pt') #from previously trained model"
      ]
    },
    {
      "cell_type": "markdown",
      "metadata": {
        "id": "wYYiVPKZNfML"
      },
      "source": [
        "## Train the model and evaluate at each epoch"
      ]
    },
    {
      "cell_type": "code",
      "execution_count": null,
      "metadata": {
        "colab": {
          "base_uri": "https://localhost:8080/"
        },
        "id": "y0JNDZ4CfasN",
        "outputId": "8a3c83cc-053e-4721-9a35-d70cb7310073"
      },
      "outputs": [
        {
          "name": "stdout",
          "output_type": "stream",
          "text": [
            "Epoch: 1/100, Batch: 115, Loss: 1.0357, accuracy 0.5227272510528564, confMatrix tensor([[24,  0,  0,  0],\n",
            "        [ 7,  0,  4,  7],\n",
            "        [ 4,  1, 12,  4],\n",
            "        [ 8,  0,  7, 10]]), fScore 0.4241637587547302, recall 0.4928571283817291, precision 0.3890172839164734\n",
            "Epoch: 2/100, Batch: 230, Loss: 0.9558, accuracy 0.5568181872367859, confMatrix tensor([[21,  1,  1,  0],\n",
            "        [ 9,  6,  6,  3],\n",
            "        [ 4,  2, 14,  2],\n",
            "        [ 5,  3,  3,  8]]), fScore 0.5298620462417603, recall 0.5551149249076843, precision 0.5592948794364929\n",
            "Epoch: 3/100, Batch: 345, Loss: 1.1145, accuracy 0.4886363744735718, confMatrix tensor([[15,  5,  4,  1],\n",
            "        [ 3,  8,  1,  4],\n",
            "        [ 4, 11,  7,  1],\n",
            "        [ 2,  4,  5, 13]]), fScore 0.482633113861084, recall 0.4865036606788635, precision 0.5016723871231079\n",
            "Epoch: 4/100, Batch: 460, Loss: 0.8073, accuracy 0.6931818127632141, confMatrix tensor([[24,  1,  1,  1],\n",
            "        [ 6,  8,  2,  5],\n",
            "        [ 1,  1, 15,  3],\n",
            "        [ 2,  2,  2, 14]]), fScore 0.6715028285980225, recall 0.679960310459137, precision 0.6881587505340576\n",
            "Epoch: 5/100, Batch: 575, Loss: 0.8001, accuracy 0.6477272510528564, confMatrix tensor([[26,  1,  1,  0],\n",
            "        [ 7,  6,  1,  5],\n",
            "        [ 1,  2, 17,  2],\n",
            "        [ 3,  4,  4,  8]]), fScore 0.6002859473228455, recall 0.6095352172851562, precision 0.6091762185096741\n",
            "Epoch: 6/100, Batch: 690, Loss: 0.8693, accuracy 0.6704545617103577, confMatrix tensor([[16,  2,  0,  2],\n",
            "        [ 4, 14,  2,  4],\n",
            "        [ 1,  2, 15,  2],\n",
            "        [ 4,  4,  2, 14]]), fScore 0.6744332313537598, recall 0.6791666150093079, precision 0.6755502223968506\n",
            "Epoch: 7/100, Batch: 805, Loss: 0.8286, accuracy 0.6477272510528564, confMatrix tensor([[15,  4,  0,  1],\n",
            "        [ 1, 12,  2,  2],\n",
            "        [ 3,  6, 14,  6],\n",
            "        [ 1,  5,  0, 16]]), fScore 0.649631917476654, recall 0.6664783954620361, precision 0.6773611307144165\n",
            "Epoch: 8/100, Batch: 920, Loss: 0.6603, accuracy 0.75, confMatrix tensor([[19,  0,  0,  0],\n",
            "        [ 2, 19,  1,  2],\n",
            "        [ 2,  6, 13,  0],\n",
            "        [ 3,  4,  2, 15]]), fScore 0.748958945274353, recall 0.7589285969734192, precision 0.7701985836029053\n",
            "Epoch: 9/100, Batch: 1035, Loss: 0.7411, accuracy 0.6590909361839294, confMatrix tensor([[19,  1,  3,  2],\n",
            "        [ 5,  6,  1,  6],\n",
            "        [ 2,  2, 13,  2],\n",
            "        [ 0,  3,  3, 20]]), fScore 0.6315126419067383, recall 0.6366936564445496, precision 0.6368589401245117\n",
            "Epoch: 10/100, Batch: 1150, Loss: 0.5607, accuracy 0.8068181872367859, confMatrix tensor([[21,  1,  0,  0],\n",
            "        [ 2, 19,  1,  2],\n",
            "        [ 2,  3, 18,  0],\n",
            "        [ 3,  3,  0, 13]]), fScore 0.8054621815681458, recall 0.8032578229904175, precision 0.823701024055481\n",
            "Epoch: 11/100, Batch: 1265, Loss: 0.4597, accuracy 0.8295454382896423, confMatrix tensor([[21,  0,  0,  0],\n",
            "        [ 2, 15,  1,  3],\n",
            "        [ 2,  4, 17,  1],\n",
            "        [ 1,  1,  0, 20]]), fScore 0.8261033296585083, recall 0.8329275250434875, precision 0.8338674902915955\n",
            "Epoch: 12/100, Batch: 1380, Loss: 0.4704, accuracy 0.7954545617103577, confMatrix tensor([[31,  2,  0,  2],\n",
            "        [ 1, 10,  2,  3],\n",
            "        [ 0,  0, 10,  4],\n",
            "        [ 2,  1,  1, 19]]), fScore 0.768511176109314, recall 0.762771725654602, precision 0.7821994423866272\n",
            "Epoch: 13/100, Batch: 1495, Loss: 0.5369, accuracy 0.8181818127632141, confMatrix tensor([[23,  1,  0,  2],\n",
            "        [ 2, 20,  0,  1],\n",
            "        [ 1,  3, 17,  1],\n",
            "        [ 1,  4,  0, 12]]), fScore 0.8128264546394348, recall 0.808197557926178, precision 0.8290343880653381\n",
            "Epoch: 14/100, Batch: 1610, Loss: 0.4872, accuracy 0.8295454382896423, confMatrix tensor([[22,  0,  0,  0],\n",
            "        [ 2, 17,  1,  0],\n",
            "        [ 1,  6, 17,  0],\n",
            "        [ 0,  4,  1, 17]]), fScore 0.8305167555809021, recall 0.8327651619911194, precision 0.8510916233062744\n",
            "Epoch: 15/100, Batch: 1725, Loss: 0.4389, accuracy 0.8522727489471436, confMatrix tensor([[21,  1,  0,  0],\n",
            "        [ 1, 25,  0,  2],\n",
            "        [ 1,  3, 12,  0],\n",
            "        [ 1,  3,  1, 17]]), fScore 0.850807785987854, recall 0.8425324559211731, precision 0.8685159087181091\n",
            "Epoch: 16/100, Batch: 1840, Loss: 0.4420, accuracy 0.8636363744735718, confMatrix tensor([[21,  0,  0,  0],\n",
            "        [ 2, 16,  0,  3],\n",
            "        [ 1,  4, 17,  0],\n",
            "        [ 1,  1,  0, 22]]), fScore 0.8611755967140198, recall 0.8628246784210205, precision 0.870476245880127\n",
            "Epoch: 17/100, Batch: 1955, Loss: 0.5413, accuracy 0.7727272510528564, confMatrix tensor([[22,  1,  1,  1],\n",
            "        [ 4, 23,  3,  3],\n",
            "        [ 0,  2, 14,  0],\n",
            "        [ 1,  4,  0,  9]]), fScore 0.7666271924972534, recall 0.7737066745758057, precision 0.7628917098045349\n",
            "Epoch: 18/100, Batch: 2070, Loss: 0.2994, accuracy 0.9090909361839294, confMatrix tensor([[25,  1,  0,  0],\n",
            "        [ 1, 21,  1,  0],\n",
            "        [ 1,  0, 19,  0],\n",
            "        [ 0,  3,  1, 15]]), fScore 0.9068945646286011, recall 0.9035139083862305, precision 0.9176719188690186\n",
            "Epoch: 19/100, Batch: 2185, Loss: 0.4431, accuracy 0.8409090638160706, confMatrix tensor([[16,  0,  0,  0],\n",
            "        [ 2, 14,  1,  4],\n",
            "        [ 1,  5, 24,  0],\n",
            "        [ 0,  1,  0, 20]]), fScore 0.8397071361541748, recall 0.8547618985176086, precision 0.8338596224784851\n",
            "Epoch: 20/100, Batch: 2300, Loss: 0.3702, accuracy 0.8636363744735718, confMatrix tensor([[28,  1,  0,  0],\n",
            "        [ 3, 13,  1,  1],\n",
            "        [ 0,  3, 15,  1],\n",
            "        [ 2,  0,  0, 20]]), fScore 0.8530791997909546, recall 0.8465760350227356, precision 0.8649454116821289\n",
            "Epoch: 21/100, Batch: 2415, Loss: 0.4222, accuracy 0.8181818127632141, confMatrix tensor([[22,  3,  0,  0],\n",
            "        [ 1, 17,  2,  2],\n",
            "        [ 1,  3, 15,  0],\n",
            "        [ 0,  4,  0, 18]]), fScore 0.8205782175064087, recall 0.8150956630706787, precision 0.8321623802185059\n",
            "Epoch: 22/100, Batch: 2530, Loss: 0.4739, accuracy 0.7954545617103577, confMatrix tensor([[17,  2,  0,  0],\n",
            "        [ 1, 18,  3,  5],\n",
            "        [ 0,  2, 21,  0],\n",
            "        [ 0,  3,  2, 14]]), fScore 0.8013029098510742, recall 0.8028222918510437, precision 0.8022447228431702\n",
            "Epoch: 23/100, Batch: 2645, Loss: 0.3057, accuracy 0.8522727489471436, confMatrix tensor([[22,  1,  0,  2],\n",
            "        [ 0, 17,  1,  2],\n",
            "        [ 0,  2, 19,  0],\n",
            "        [ 0,  5,  0, 17]]), fScore 0.8523131608963013, recall 0.8518722653388977, precision 0.8598809838294983\n",
            "Epoch: 24/100, Batch: 2760, Loss: 0.4153, accuracy 0.8863636255264282, confMatrix tensor([[26,  1,  0,  1],\n",
            "        [ 1, 18,  1,  1],\n",
            "        [ 1,  2, 22,  2],\n",
            "        [ 0,  0,  0, 12]]), fScore 0.8807142972946167, recall 0.9001322984695435, precision 0.8730590343475342\n",
            "Epoch: 25/100, Batch: 2875, Loss: 0.3208, accuracy 0.8863636255264282, confMatrix tensor([[23,  0,  0,  0],\n",
            "        [ 1, 13,  1,  0],\n",
            "        [ 1,  3, 20,  1],\n",
            "        [ 2,  0,  1, 22]]), fScore 0.8816100358963013, recall 0.8866666555404663, precision 0.8824911713600159\n",
            "Epoch: 26/100, Batch: 2990, Loss: 0.2807, accuracy 0.9318181872367859, confMatrix tensor([[25,  0,  0,  0],\n",
            "        [ 2, 15,  1,  2],\n",
            "        [ 0,  0, 21,  1],\n",
            "        [ 0,  0,  0, 21]]), fScore 0.9266400337219238, recall 0.9261363744735718, precision 0.9388678669929504\n",
            "Epoch: 27/100, Batch: 3105, Loss: 0.2662, accuracy 0.8977272510528564, confMatrix tensor([[25,  2,  0,  0],\n",
            "        [ 1, 19,  0,  2],\n",
            "        [ 1,  2, 15,  0],\n",
            "        [ 0,  1,  0, 20]]), fScore 0.8978341221809387, recall 0.8938190937042236, precision 0.9066709280014038\n",
            "Epoch: 28/100, Batch: 3220, Loss: 0.1808, accuracy 0.9431818127632141, confMatrix tensor([[21,  0,  0,  0],\n",
            "        [ 0, 17,  1,  1],\n",
            "        [ 0,  0, 24,  1],\n",
            "        [ 0,  2,  0, 21]]), fScore 0.9419450759887695, recall 0.9419450759887695, precision 0.9419450759887695\n",
            "Epoch: 29/100, Batch: 3335, Loss: 0.4848, accuracy 0.8409090638160706, confMatrix tensor([[26,  1,  0,  1],\n",
            "        [ 0, 13,  0,  1],\n",
            "        [ 0,  5, 19,  1],\n",
            "        [ 0,  3,  2, 16]]), fScore 0.8278180360794067, recall 0.844761848449707, precision 0.8344440460205078\n",
            "Epoch: 30/100, Batch: 3450, Loss: 0.2900, accuracy 0.8522727489471436, confMatrix tensor([[23,  1,  1,  0],\n",
            "        [ 3, 16,  0,  2],\n",
            "        [ 0,  1, 21,  2],\n",
            "        [ 2,  0,  1, 15]]), fScore 0.8482162952423096, recall 0.8475595116615295, precision 0.8532087206840515\n",
            "Epoch: 31/100, Batch: 3565, Loss: 0.3017, accuracy 0.875, confMatrix tensor([[27,  0,  1,  1],\n",
            "        [ 2, 20,  1,  2],\n",
            "        [ 1,  1, 15,  0],\n",
            "        [ 1,  0,  1, 15]]), fScore 0.8709627389907837, recall 0.8739351034164429, precision 0.8725038170814514\n",
            "Epoch: 32/100, Batch: 3680, Loss: 0.2637, accuracy 0.8863636255264282, confMatrix tensor([[19,  0,  0,  0],\n",
            "        [ 2, 15,  1,  0],\n",
            "        [ 1,  0, 23,  0],\n",
            "        [ 2,  4,  0, 21]]), fScore 0.881966233253479, recall 0.892361044883728, precision 0.8848684430122375\n",
            "Epoch: 33/100, Batch: 3795, Loss: 0.3065, accuracy 0.8863636255264282, confMatrix tensor([[19,  0,  1,  1],\n",
            "        [ 0, 24,  3,  2],\n",
            "        [ 0,  0, 21,  2],\n",
            "        [ 1,  0,  0, 14]]), fScore 0.8827548027038574, recall 0.8946812748908997, precision 0.8817105293273926\n",
            "Epoch: 34/100, Batch: 3910, Loss: 0.3769, accuracy 0.8409090638160706, confMatrix tensor([[22,  0,  0,  1],\n",
            "        [ 1, 21,  0,  1],\n",
            "        [ 2,  2, 15,  2],\n",
            "        [ 0,  4,  1, 16]]), fScore 0.8369913101196289, recall 0.8364388942718506, precision 0.8488194346427917\n",
            "Epoch: 35/100, Batch: 4025, Loss: 0.4099, accuracy 0.8409090638160706, confMatrix tensor([[16,  0,  0,  1],\n",
            "        [ 1, 23,  1,  6],\n",
            "        [ 0,  1, 19,  1],\n",
            "        [ 1,  2,  0, 16]]), fScore 0.8480796813964844, recall 0.8574948310852051, precision 0.8475427627563477\n",
            "Epoch: 36/100, Batch: 4140, Loss: 0.2916, accuracy 0.8977272510528564, confMatrix tensor([[24,  1,  0,  0],\n",
            "        [ 0, 16,  0,  0],\n",
            "        [ 0,  5, 23,  3],\n",
            "        [ 0,  0,  0, 16]]), fScore 0.8969586491584778, recall 0.9254838824272156, precision 0.8923444747924805\n",
            "Epoch: 37/100, Batch: 4255, Loss: 0.4595, accuracy 0.8522727489471436, confMatrix tensor([[24,  1,  1,  0],\n",
            "        [ 1, 20,  3,  1],\n",
            "        [ 1,  3, 14,  0],\n",
            "        [ 0,  2,  0, 17]]), fScore 0.8510218262672424, recall 0.8488978743553162, precision 0.8536325097084045\n",
            "Epoch: 38/100, Batch: 4370, Loss: 0.2766, accuracy 0.9090909361839294, confMatrix tensor([[26,  0,  0,  0],\n",
            "        [ 1, 22,  0,  1],\n",
            "        [ 0,  2, 15,  0],\n",
            "        [ 1,  3,  0, 17]]), fScore 0.9087507128715515, recall 0.9021359086036682, precision 0.9219576716423035\n",
            "Epoch: 39/100, Batch: 4485, Loss: 0.3089, accuracy 0.8409090638160706, confMatrix tensor([[30,  0,  0,  0],\n",
            "        [ 2, 15,  4,  2],\n",
            "        [ 0,  3, 10,  3],\n",
            "        [ 0,  0,  0, 19]]), fScore 0.8124591708183289, recall 0.8192934989929199, precision 0.8191964030265808\n",
            "Epoch: 40/100, Batch: 4600, Loss: 0.2443, accuracy 0.9318181872367859, confMatrix tensor([[24,  1,  0,  1],\n",
            "        [ 0, 16,  0,  0],\n",
            "        [ 1,  2, 18,  0],\n",
            "        [ 0,  1,  0, 24]]), fScore 0.9282855987548828, recall 0.9350549578666687, precision 0.9300000071525574\n",
            "Epoch: 41/100, Batch: 4715, Loss: 0.4054, accuracy 0.8636363744735718, confMatrix tensor([[21,  0,  0,  0],\n",
            "        [ 1, 26,  0,  2],\n",
            "        [ 1,  1, 14,  2],\n",
            "        [ 0,  4,  1, 15]]), fScore 0.859731912612915, recall 0.8560823798179626, precision 0.8686400651931763\n",
            "Epoch: 42/100, Batch: 4830, Loss: 0.3470, accuracy 0.8863636255264282, confMatrix tensor([[19,  1,  0,  0],\n",
            "        [ 1, 20,  1,  3],\n",
            "        [ 0,  2, 16,  0],\n",
            "        [ 0,  2,  0, 23]]), fScore 0.8915616273880005, recall 0.8897222280502319, precision 0.893947958946228\n",
            "Epoch: 43/100, Batch: 4945, Loss: 0.3864, accuracy 0.875, confMatrix tensor([[20,  1,  0,  1],\n",
            "        [ 0, 21,  2,  0],\n",
            "        [ 1,  2, 20,  3],\n",
            "        [ 0,  1,  0, 16]]), fScore 0.8758576512336731, recall 0.8831354379653931, precision 0.8753679394721985\n",
            "Epoch: 44/100, Batch: 5060, Loss: 0.1446, accuracy 0.9545454382896423, confMatrix tensor([[20,  0,  0,  0],\n",
            "        [ 0, 22,  0,  0],\n",
            "        [ 0,  2, 22,  2],\n",
            "        [ 0,  0,  0, 20]]), fScore 0.9563923478126526, recall 0.9615384340286255, precision 0.9564394354820251\n",
            "Epoch: 45/100, Batch: 5175, Loss: 0.3560, accuracy 0.875, confMatrix tensor([[25,  0,  0,  0],\n",
            "        [ 0, 16,  2,  0],\n",
            "        [ 1,  1, 21,  4],\n",
            "        [ 1,  1,  1, 15]]), fScore 0.8711919188499451, recall 0.8749999403953552, precision 0.8698221445083618\n",
            "Epoch: 46/100, Batch: 5290, Loss: 0.2444, accuracy 0.9090909361839294, confMatrix tensor([[16,  0,  1,  0],\n",
            "        [ 1, 12,  1,  2],\n",
            "        [ 0,  0, 23,  0],\n",
            "        [ 0,  3,  0, 29]]), fScore 0.8985846042633057, recall 0.8993566036224365, precision 0.8991650938987732\n",
            "Epoch: 47/100, Batch: 5405, Loss: 0.2926, accuracy 0.9090909361839294, confMatrix tensor([[21,  0,  0,  0],\n",
            "        [ 1, 19,  0,  2],\n",
            "        [ 0,  2, 19,  1],\n",
            "        [ 2,  0,  0, 21]]), fScore 0.9093751907348633, recall 0.9100790619850159, precision 0.913690447807312\n",
            "Epoch: 48/100, Batch: 5520, Loss: 0.2670, accuracy 0.8977272510528564, confMatrix tensor([[27,  1,  0,  0],\n",
            "        [ 3, 19,  0,  0],\n",
            "        [ 0,  3, 19,  0],\n",
            "        [ 0,  2,  0, 14]]), fScore 0.8999269604682922, recall 0.8916395902633667, precision 0.9149999618530273\n",
            "Epoch: 49/100, Batch: 5635, Loss: 0.2742, accuracy 0.8522727489471436, confMatrix tensor([[22,  2,  0,  0],\n",
            "        [ 0, 12,  3,  2],\n",
            "        [ 0,  3, 19,  0],\n",
            "        [ 1,  2,  0, 22]]), fScore 0.8411080837249756, recall 0.8415464162826538, precision 0.8421009182929993\n",
            "Epoch: 50/100, Batch: 5750, Loss: 0.3050, accuracy 0.875, confMatrix tensor([[25,  0,  0,  0],\n",
            "        [ 0, 16,  2,  3],\n",
            "        [ 0,  1, 20,  3],\n",
            "        [ 0,  2,  0, 16]]), fScore 0.8673912882804871, recall 0.8710317015647888, precision 0.869617223739624\n",
            "Epoch: 51/100, Batch: 5865, Loss: 0.2448, accuracy 0.9204545617103577, confMatrix tensor([[24,  0,  0,  0],\n",
            "        [ 1, 20,  2,  1],\n",
            "        [ 0,  0, 15,  1],\n",
            "        [ 1,  1,  0, 22]]), fScore 0.9186616539955139, recall 0.921875, precision 0.9186193943023682\n",
            "Epoch: 52/100, Batch: 5980, Loss: 0.3230, accuracy 0.875, confMatrix tensor([[22,  0,  0,  0],\n",
            "        [ 2, 15,  2,  0],\n",
            "        [ 0,  2, 21,  1],\n",
            "        [ 0,  2,  2, 19]]), fScore 0.8717148303985596, recall 0.8726401925086975, precision 0.874035120010376\n",
            "Epoch: 53/100, Batch: 6095, Loss: 0.4527, accuracy 0.8636363744735718, confMatrix tensor([[21,  0,  1,  0],\n",
            "        [ 2, 17,  2,  1],\n",
            "        [ 0,  1, 22,  0],\n",
            "        [ 0,  4,  1, 16]]), fScore 0.8615312576293945, recall 0.8614248037338257, precision 0.8682752847671509\n",
            "Epoch: 54/100, Batch: 6210, Loss: 0.3066, accuracy 0.875, confMatrix tensor([[25,  0,  0,  1],\n",
            "        [ 0, 18,  1,  1],\n",
            "        [ 0,  2, 11,  1],\n",
            "        [ 1,  4,  0, 23]]), fScore 0.8694314956665039, recall 0.8671702742576599, precision 0.8782051205635071\n",
            "Epoch: 55/100, Batch: 6325, Loss: 0.2866, accuracy 0.875, confMatrix tensor([[22,  0,  0,  0],\n",
            "        [ 0, 22,  0,  1],\n",
            "        [ 1,  1, 19,  2],\n",
            "        [ 0,  6,  0, 14]]), fScore 0.871362566947937, recall 0.8706521987915039, precision 0.8846679925918579\n",
            "Epoch: 56/100, Batch: 6440, Loss: 0.2917, accuracy 0.875, confMatrix tensor([[22,  0,  1,  0],\n",
            "        [ 1, 23,  1,  1],\n",
            "        [ 0,  4, 13,  0],\n",
            "        [ 0,  3,  0, 19]]), fScore 0.8738030195236206, recall 0.8673698902130127, precision 0.8849638104438782\n",
            "Epoch: 57/100, Batch: 6555, Loss: 0.2493, accuracy 0.9204545617103577, confMatrix tensor([[23,  1,  1,  0],\n",
            "        [ 0, 20,  1,  0],\n",
            "        [ 0,  2, 17,  0],\n",
            "        [ 0,  2,  0, 21]]), fScore 0.9192951917648315, recall 0.9200403094291687, precision 0.9236841797828674\n",
            "Epoch: 58/100, Batch: 6670, Loss: 0.2914, accuracy 0.8863636255264282, confMatrix tensor([[25,  1,  0,  1],\n",
            "        [ 0, 13,  1,  1],\n",
            "        [ 1,  1, 12,  0],\n",
            "        [ 1,  2,  1, 28]]), fScore 0.8746986389160156, recall 0.8811838626861572, precision 0.8702770471572876\n",
            "Epoch: 59/100, Batch: 6785, Loss: 0.1315, accuracy 0.9545454382896423, confMatrix tensor([[19,  0,  0,  0],\n",
            "        [ 1, 21,  0,  0],\n",
            "        [ 0,  1, 18,  0],\n",
            "        [ 0,  2,  0, 26]]), fScore 0.9558345675468445, recall 0.9576213359832764, precision 0.956250011920929\n",
            "Epoch: 60/100, Batch: 6900, Loss: 0.2848, accuracy 0.9090909361839294, confMatrix tensor([[24,  1,  0,  0],\n",
            "        [ 2, 12,  1,  0],\n",
            "        [ 0,  1, 27,  1],\n",
            "        [ 0,  2,  0, 17]]), fScore 0.8954143524169922, recall 0.8964428305625916, precision 0.8954517245292664\n",
            "Epoch: 61/100, Batch: 7015, Loss: 0.2207, accuracy 0.9431818127632141, confMatrix tensor([[28,  1,  0,  0],\n",
            "        [ 1, 13,  0,  0],\n",
            "        [ 0,  1, 24,  1],\n",
            "        [ 0,  1,  0, 18]]), fScore 0.9348880648612976, recall 0.9411334991455078, precision 0.9313464164733887\n",
            "Epoch: 62/100, Batch: 7130, Loss: 0.4026, accuracy 0.8181818127632141, confMatrix tensor([[22,  0,  0,  1],\n",
            "        [ 1, 20,  0,  4],\n",
            "        [ 1,  5, 13,  1],\n",
            "        [ 0,  3,  0, 17]]), fScore 0.8173659443855286, recall 0.814130425453186, precision 0.8425207138061523\n",
            "Epoch: 63/100, Batch: 7245, Loss: 0.3257, accuracy 0.875, confMatrix tensor([[31,  2,  0,  0],\n",
            "        [ 1, 12,  1,  2],\n",
            "        [ 0,  2, 12,  1],\n",
            "        [ 0,  1,  1, 22]]), fScore 0.8516660928726196, recall 0.8515151739120483, precision 0.8529437780380249\n",
            "Epoch: 64/100, Batch: 7360, Loss: 0.2068, accuracy 0.9204545617103577, confMatrix tensor([[30,  1,  0,  0],\n",
            "        [ 1, 19,  0,  0],\n",
            "        [ 0,  0, 15,  1],\n",
            "        [ 2,  2,  0, 17]]), fScore 0.9204496741294861, recall 0.9161913990974426, precision 0.9292929172515869\n",
            "Epoch: 65/100, Batch: 7475, Loss: 0.2939, accuracy 0.8522727489471436, confMatrix tensor([[23,  1,  0,  0],\n",
            "        [ 3, 19,  1,  3],\n",
            "        [ 0,  0, 17,  0],\n",
            "        [ 2,  2,  1, 16]]), fScore 0.8551816344261169, recall 0.862751841545105, precision 0.8554767370223999\n",
            "Epoch: 66/100, Batch: 7590, Loss: 0.1501, accuracy 0.9431818127632141, confMatrix tensor([[27,  0,  0,  0],\n",
            "        [ 0, 22,  0,  2],\n",
            "        [ 0,  1, 14,  0],\n",
            "        [ 1,  0,  1, 20]]), fScore 0.9401031732559204, recall 0.9397727847099304, precision 0.9408079385757446\n",
            "Epoch: 67/100, Batch: 7705, Loss: 0.3386, accuracy 0.8522727489471436, confMatrix tensor([[21,  0,  0,  0],\n",
            "        [ 3, 20,  1,  3],\n",
            "        [ 0,  1, 15,  0],\n",
            "        [ 0,  3,  2, 19]]), fScore 0.8565217852592468, recall 0.8674768805503845, precision 0.8513257503509521\n",
            "Epoch: 68/100, Batch: 7820, Loss: 0.1443, accuracy 0.9431818127632141, confMatrix tensor([[23,  1,  0,  0],\n",
            "        [ 0, 18,  1,  0],\n",
            "        [ 0,  1, 21,  0],\n",
            "        [ 0,  1,  1, 21]]), fScore 0.9416505098342896, recall 0.9433226585388184, precision 0.9425466060638428\n",
            "Epoch: 69/100, Batch: 7935, Loss: 0.3219, accuracy 0.8977272510528564, confMatrix tensor([[27,  2,  0,  0],\n",
            "        [ 1, 21,  2,  0],\n",
            "        [ 0,  0, 17,  0],\n",
            "        [ 0,  3,  1, 14]]), fScore 0.8953218460083008, recall 0.8959530591964722, precision 0.9054945111274719\n",
            "Epoch: 70/100, Batch: 8050, Loss: 0.4294, accuracy 0.8522727489471436, confMatrix tensor([[21,  1,  0,  1],\n",
            "        [ 0, 11,  2,  1],\n",
            "        [ 0,  3, 20,  1],\n",
            "        [ 3,  1,  0, 23]]), fScore 0.8411099910736084, recall 0.8459857702255249, precision 0.8390516042709351\n",
            "Epoch: 71/100, Batch: 8165, Loss: 0.1603, accuracy 0.9090909361839294, confMatrix tensor([[27,  1,  0,  1],\n",
            "        [ 0, 13,  0,  0],\n",
            "        [ 0,  2, 18,  1],\n",
            "        [ 0,  3,  0, 22]]), fScore 0.8994554281234741, recall 0.9170444011688232, precision 0.9002193212509155\n",
            "Epoch: 72/100, Batch: 8280, Loss: 0.2803, accuracy 0.8977272510528564, confMatrix tensor([[17,  0,  0,  1],\n",
            "        [ 1, 14,  0,  3],\n",
            "        [ 0,  1, 24,  2],\n",
            "        [ 0,  0,  1, 24]]), fScore 0.8971834182739258, recall 0.8927778005599976, precision 0.9094444513320923\n",
            "Epoch: 73/100, Batch: 8395, Loss: 0.4664, accuracy 0.8636363744735718, confMatrix tensor([[21,  1,  1,  3],\n",
            "        [ 0, 17,  1,  2],\n",
            "        [ 0,  2, 15,  1],\n",
            "        [ 0,  0,  1, 23]]), fScore 0.8612186908721924, recall 0.8623397350311279, precision 0.8691092133522034\n",
            "Epoch: 74/100, Batch: 8510, Loss: 0.2176, accuracy 0.8863636255264282, confMatrix tensor([[34,  0,  0,  0],\n",
            "        [ 0, 12,  3,  2],\n",
            "        [ 1,  0, 15,  2],\n",
            "        [ 0,  0,  2, 17]]), fScore 0.8631417751312256, recall 0.8584880828857422, precision 0.8827381134033203\n",
            "Epoch: 75/100, Batch: 8625, Loss: 0.2625, accuracy 0.875, confMatrix tensor([[21,  1,  0,  0],\n",
            "        [ 2, 19,  0,  3],\n",
            "        [ 1,  0, 17,  0],\n",
            "        [ 1,  3,  0, 20]]), fScore 0.8811549544334412, recall 0.8809974789619446, precision 0.8839130401611328\n",
            "Epoch: 76/100, Batch: 8740, Loss: 0.2989, accuracy 0.8636363744735718, confMatrix tensor([[19,  0,  1,  0],\n",
            "        [ 2, 24,  1,  2],\n",
            "        [ 0,  1, 15,  1],\n",
            "        [ 0,  4,  0, 18]]), fScore 0.8684943914413452, recall 0.8695302605628967, precision 0.867961049079895\n",
            "Epoch: 77/100, Batch: 8855, Loss: 0.1701, accuracy 0.9204545617103577, confMatrix tensor([[28,  0,  0,  0],\n",
            "        [ 1, 19,  1,  1],\n",
            "        [ 0,  1, 22,  0],\n",
            "        [ 0,  2,  1, 12]]), fScore 0.9098514318466187, recall 0.9050394892692566, precision 0.9172242879867554\n",
            "Epoch: 78/100, Batch: 8970, Loss: 0.3289, accuracy 0.875, confMatrix tensor([[30,  0,  1,  0],\n",
            "        [ 2, 17,  1,  1],\n",
            "        [ 0,  3, 14,  1],\n",
            "        [ 2,  0,  0, 16]]), fScore 0.8661909103393555, recall 0.86098313331604, precision 0.8740604519844055\n",
            "Epoch: 79/100, Batch: 9085, Loss: 0.2912, accuracy 0.875, confMatrix tensor([[20,  1,  0,  0],\n",
            "        [ 1, 18,  2,  3],\n",
            "        [ 1,  2, 17,  0],\n",
            "        [ 0,  1,  0, 22]]), fScore 0.8753256797790527, recall 0.8772256970405579, precision 0.875502347946167\n",
            "Epoch: 80/100, Batch: 9200, Loss: 0.2321, accuracy 0.9090909361839294, confMatrix tensor([[29,  1,  0,  0],\n",
            "        [ 2, 13,  0,  1],\n",
            "        [ 0,  1, 20,  0],\n",
            "        [ 0,  3,  0, 18]]), fScore 0.8977838754653931, recall 0.8971726298332214, precision 0.9012686014175415\n",
            "Epoch: 81/100, Batch: 9315, Loss: 0.2397, accuracy 0.8863636255264282, confMatrix tensor([[24,  0,  0,  2],\n",
            "        [ 0, 20,  1,  1],\n",
            "        [ 1,  1, 18,  1],\n",
            "        [ 0,  2,  1, 16]]), fScore 0.8821567296981812, recall 0.8828539848327637, precision 0.8823912739753723\n",
            "Epoch: 82/100, Batch: 9430, Loss: 0.2149, accuracy 0.8977272510528564, confMatrix tensor([[32,  0,  1,  0],\n",
            "        [ 1, 21,  2,  1],\n",
            "        [ 0,  2,  8,  0],\n",
            "        [ 0,  1,  1, 18]]), fScore 0.8692973852157593, recall 0.8774242401123047, precision 0.8646830320358276\n",
            "Epoch: 83/100, Batch: 9545, Loss: 0.3763, accuracy 0.9204545617103577, confMatrix tensor([[27,  0,  1,  0],\n",
            "        [ 0, 14,  1,  1],\n",
            "        [ 2,  0, 21,  0],\n",
            "        [ 0,  1,  1, 19]]), fScore 0.9177601337432861, recall 0.9142727851867676, precision 0.9223420023918152\n",
            "Epoch: 84/100, Batch: 9660, Loss: 0.4564, accuracy 0.8068181872367859, confMatrix tensor([[23,  1,  1,  1],\n",
            "        [ 0, 19,  1,  1],\n",
            "        [ 0,  0, 13,  2],\n",
            "        [ 4,  3,  3, 16]]), fScore 0.8037729859352112, recall 0.8178571462631226, precision 0.8000402450561523\n",
            "Epoch: 85/100, Batch: 9775, Loss: 0.3735, accuracy 0.8636363744735718, confMatrix tensor([[27,  0,  0,  0],\n",
            "        [ 0, 12,  2,  1],\n",
            "        [ 0,  2, 23,  0],\n",
            "        [ 0,  6,  1, 14]]), fScore 0.8413631916046143, recall 0.846666693687439, precision 0.8544871807098389\n",
            "Epoch: 86/100, Batch: 9890, Loss: 0.3667, accuracy 0.8522727489471436, confMatrix tensor([[20,  1,  0,  0],\n",
            "        [ 0, 17,  0,  1],\n",
            "        [ 1,  4, 19,  1],\n",
            "        [ 0,  4,  1, 19]]), fScore 0.8534992933273315, recall 0.8621230125427246, precision 0.8652472496032715\n",
            "Epoch: 87/100, Batch: 10005, Loss: 0.2361, accuracy 0.875, confMatrix tensor([[18,  0,  0,  1],\n",
            "        [ 0, 17,  3,  1],\n",
            "        [ 0,  3, 19,  1],\n",
            "        [ 0,  2,  0, 23]]), fScore 0.8775190114974976, recall 0.8757448196411133, precision 0.8802447319030762\n",
            "Epoch: 88/100, Batch: 10120, Loss: 0.2994, accuracy 0.875, confMatrix tensor([[18,  0,  0,  1],\n",
            "        [ 1, 19,  0,  1],\n",
            "        [ 0,  3, 22,  2],\n",
            "        [ 0,  1,  2, 18]]), fScore 0.8777397871017456, recall 0.881022036075592, precision 0.8770759701728821\n",
            "Epoch: 89/100, Batch: 10235, Loss: 0.2054, accuracy 0.9318181872367859, confMatrix tensor([[19,  1,  0,  0],\n",
            "        [ 0, 19,  1,  2],\n",
            "        [ 0,  1, 25,  1],\n",
            "        [ 0,  0,  0, 19]]), fScore 0.9320763349533081, recall 0.9348905682563782, precision 0.9324841499328613\n",
            "Epoch: 90/100, Batch: 10350, Loss: 0.3552, accuracy 0.8636363744735718, confMatrix tensor([[20,  2,  0,  0],\n",
            "        [ 1, 18,  0,  2],\n",
            "        [ 0,  3, 11,  2],\n",
            "        [ 0,  2,  0, 27]]), fScore 0.8569140434265137, recall 0.8461921215057373, precision 0.885837197303772\n",
            "Epoch: 91/100, Batch: 10465, Loss: 0.2972, accuracy 0.875, confMatrix tensor([[21,  0,  0,  0],\n",
            "        [ 1, 21,  3,  1],\n",
            "        [ 0,  1, 20,  1],\n",
            "        [ 1,  1,  2, 15]]), fScore 0.8740214109420776, recall 0.8765642642974854, precision 0.8771100044250488\n",
            "Epoch: 92/100, Batch: 10580, Loss: 0.1689, accuracy 0.9318181872367859, confMatrix tensor([[31,  0,  0,  0],\n",
            "        [ 1, 18,  0,  0],\n",
            "        [ 1,  3, 14,  0],\n",
            "        [ 0,  1,  0, 19]]), fScore 0.924039363861084, recall 0.9187865853309631, precision 0.939393937587738\n",
            "Epoch: 93/100, Batch: 10695, Loss: 0.3233, accuracy 0.8977272510528564, confMatrix tensor([[25,  2,  0,  2],\n",
            "        [ 0, 17,  0,  1],\n",
            "        [ 0,  1, 18,  1],\n",
            "        [ 0,  1,  1, 19]]), fScore 0.8961085677146912, recall 0.9028187990188599, precision 0.895744800567627\n",
            "Epoch: 94/100, Batch: 10810, Loss: 0.1902, accuracy 0.9204545617103577, confMatrix tensor([[16,  0,  0,  0],\n",
            "        [ 0, 26,  0,  0],\n",
            "        [ 0,  3, 22,  2],\n",
            "        [ 1,  0,  1, 17]]), fScore 0.9224721193313599, recall 0.9273878931999207, precision 0.9222466945648193\n",
            "Epoch: 95/100, Batch: 10925, Loss: 0.1819, accuracy 0.9545454382896423, confMatrix tensor([[19,  0,  0,  1],\n",
            "        [ 0, 18,  0,  1],\n",
            "        [ 1,  1, 19,  0],\n",
            "        [ 0,  0,  0, 28]]), fScore 0.9532214403152466, recall 0.9505325555801392, precision 0.9576754570007324\n",
            "Epoch: 96/100, Batch: 11040, Loss: 0.2756, accuracy 0.8863636255264282, confMatrix tensor([[24,  1,  0,  0],\n",
            "        [ 1, 18,  2,  1],\n",
            "        [ 1,  0, 12,  1],\n",
            "        [ 1,  2,  0, 24]]), fScore 0.8807723522186279, recall 0.8810533881187439, precision 0.8815628886222839\n",
            "Epoch: 97/100, Batch: 11155, Loss: 0.1151, accuracy 0.9886363744735718, confMatrix tensor([[24,  0,  0,  0],\n",
            "        [ 0, 24,  1,  0],\n",
            "        [ 0,  0, 21,  0],\n",
            "        [ 0,  0,  0, 18]]), fScore 0.989084005355835, recall 0.9900000095367432, precision 0.9886363744735718\n",
            "Epoch: 98/100, Batch: 11270, Loss: 0.2853, accuracy 0.9204545617103577, confMatrix tensor([[27,  0,  0,  0],\n",
            "        [ 1, 23,  1,  2],\n",
            "        [ 0,  1, 14,  0],\n",
            "        [ 0,  2,  0, 17]]), fScore 0.9194532036781311, recall 0.919980525970459, precision 0.919242799282074\n",
            "Epoch: 99/100, Batch: 11385, Loss: 0.2514, accuracy 0.9090909361839294, confMatrix tensor([[25,  0,  1,  0],\n",
            "        [ 1, 19,  1,  0],\n",
            "        [ 0,  2, 16,  0],\n",
            "        [ 0,  1,  2, 20]]), fScore 0.9043992757797241, recall 0.9061886072158813, precision 0.9062936902046204\n",
            "Epoch: 100/100, Batch: 11500, Loss: 0.3261, accuracy 0.8636363744735718, confMatrix tensor([[26,  0,  0,  1],\n",
            "        [ 2, 13,  1,  1],\n",
            "        [ 1,  0, 25,  1],\n",
            "        [ 0,  4,  1, 12]]), fScore 0.8423008322715759, recall 0.8398692607879639, precision 0.8467958569526672\n"
          ]
        }
      ],
      "source": [
        "#initialize the counter and the list of losses and accuracy\n",
        "i=0\n",
        "losses = []\n",
        "accuracy = []\n",
        "\n",
        "# Train the model\n",
        "for epoch in range(100):\n",
        "    correct = 0\n",
        "    for images, labels in train_loader: #image size = [batch_size, channels, height, width]\n",
        "        # Forward pass\n",
        "        outputs = model(images)\n",
        "        loss = loss_fn(outputs, labels)\n",
        "        # Backward pass\n",
        "        optimizer.zero_grad()\n",
        "        loss.backward()\n",
        "        optimizer.step()\n",
        "\n",
        "        #save the loss values\n",
        "        losses.append(loss.item())\n",
        "\n",
        "        #get the accuracy\n",
        "        metric = MulticlassAccuracy()\n",
        "        metric.update(outputs, labels)\n",
        "        acc = metric.compute()\n",
        "        accuracy.append(acc)\n",
        "\n",
        "        #get the confusion matrix, f score, recall, precision\n",
        "        conf_matrix = torcheval.metrics.functional.multiclass_confusion_matrix(outputs, labels, 4)\n",
        "        f_score = torcheval.metrics.functional.multiclass_f1_score(outputs, labels, num_classes = 4, average = 'macro')\n",
        "        recall = torcheval.metrics.functional.multiclass_recall(outputs, labels, num_classes = 4, average = 'macro')\n",
        "        precision = torcheval.metrics.functional.multiclass_precision(outputs, labels, num_classes = 4, average = 'macro')\n",
        "\n",
        "        # Print progress\n",
        "        # if i % 100 == 0:\n",
        "          # print(f'Epoch: {epoch + 1}/{100}, Batch: {i}, Loss: {loss.item():.4f}, accuracy {acc}, confMatrix {conf_matrix}')\n",
        "\n",
        "        #update i\n",
        "        i = i + 1\n",
        "    print(f'Epoch: {epoch + 1}/{100}, Batch: {i}, Loss: {loss.item():.4f}, accuracy {acc}, confMatrix {conf_matrix}, fScore {f_score}, recall {recall}, precision {precision}')"
      ]
    },
    {
      "cell_type": "markdown",
      "metadata": {
        "id": "wLHXrM-fMwcS"
      },
      "source": []
    },
    {
      "cell_type": "markdown",
      "metadata": {
        "id": "m2d7RUbGdLtl"
      },
      "source": [
        "## Evaluate the model\n",
        "The resulting loss, accuracy, and confusion matrix at the final run\n",
        "\n",
        "As described in the dataset previous models achieved a hight accuracy of The images in the dataset are regularized and augmented so that we can achieve more than 96% accuracy on the first training session."
      ]
    },
    {
      "cell_type": "code",
      "execution_count": null,
      "metadata": {
        "colab": {
          "base_uri": "https://localhost:8080/"
        },
        "id": "Ownc62lAfZAo",
        "outputId": "2a1356e5-48ff-4f7b-caa6-fa4f1ae89641"
      },
      "outputs": [
        {
          "name": "stdout",
          "output_type": "stream",
          "text": [
            "Loss: 0.3417, accuracy 0.8863636255264282, confMatrix tensor([[22,  0,  1,  0],\n",
            "        [ 0, 19,  1,  2],\n",
            "        [ 1,  0, 16,  2],\n",
            "        [ 0,  3,  0, 21]]), fScore 0.8855414390563965, recall 0.8843158483505249, precision 0.8872617483139038\n"
          ]
        }
      ],
      "source": [
        "#print the loss, accuracy, confusion matrix, precision, recall, and the F1-score of the final epoch\n",
        "print(f'Loss: {loss.item():.4f}, accuracy {acc}, confMatrix {conf_matrix}, fScore {f_score}, recall {recall}, precision {precision}')"
      ]
    },
    {
      "cell_type": "markdown",
      "metadata": {
        "id": "1Rn6LDwqOHlH"
      },
      "source": [
        "plot the loss and accuracy"
      ]
    },
    {
      "cell_type": "code",
      "execution_count": null,
      "metadata": {
        "colab": {
          "base_uri": "https://localhost:8080/"
        },
        "id": "_vL_U_fqxVs8",
        "outputId": "68b3cfbf-d8a8-4867-c83c-493102a23824"
      },
      "outputs": [
        {
          "ename": "NameError",
          "evalue": "name 'plt' is not defined",
          "output_type": "error",
          "traceback": [
            "\u001b[0;31m---------------------------------------------------------------------------\u001b[0m",
            "\u001b[0;31mNameError\u001b[0m                                 Traceback (most recent call last)",
            "\u001b[0;32m<ipython-input-1-c26eddc8392b>\u001b[0m in \u001b[0;36m<cell line: 1>\u001b[0;34m()\u001b[0m\n\u001b[0;32m----> 1\u001b[0;31m \u001b[0mplt\u001b[0m\u001b[0;34m.\u001b[0m\u001b[0mtitle\u001b[0m\u001b[0;34m(\u001b[0m\u001b[0;34m\"Loss Function and Accuracy\"\u001b[0m\u001b[0;34m)\u001b[0m\u001b[0;34m\u001b[0m\u001b[0;34m\u001b[0m\u001b[0m\n\u001b[0m\u001b[1;32m      2\u001b[0m \u001b[0mplt\u001b[0m\u001b[0;34m.\u001b[0m\u001b[0mylabel\u001b[0m\u001b[0;34m(\u001b[0m\u001b[0;34m\"Loss & and Accuracy\"\u001b[0m\u001b[0;34m)\u001b[0m\u001b[0;34m\u001b[0m\u001b[0;34m\u001b[0m\u001b[0m\n\u001b[1;32m      3\u001b[0m \u001b[0mplt\u001b[0m\u001b[0;34m.\u001b[0m\u001b[0mxlabel\u001b[0m\u001b[0;34m(\u001b[0m\u001b[0;34m\"Images\"\u001b[0m\u001b[0;34m)\u001b[0m\u001b[0;34m\u001b[0m\u001b[0;34m\u001b[0m\u001b[0m\n\u001b[1;32m      4\u001b[0m \u001b[0mplt\u001b[0m\u001b[0;34m.\u001b[0m\u001b[0mplot\u001b[0m\u001b[0;34m(\u001b[0m\u001b[0mlosses\u001b[0m\u001b[0;34m)\u001b[0m\u001b[0;34m\u001b[0m\u001b[0;34m\u001b[0m\u001b[0m\n\u001b[1;32m      5\u001b[0m \u001b[0mplt\u001b[0m\u001b[0;34m.\u001b[0m\u001b[0mplot\u001b[0m\u001b[0;34m(\u001b[0m\u001b[0maccuracy\u001b[0m\u001b[0;34m)\u001b[0m\u001b[0;34m\u001b[0m\u001b[0;34m\u001b[0m\u001b[0m\n",
            "\u001b[0;31mNameError\u001b[0m: name 'plt' is not defined"
          ]
        }
      ],
      "source": [
        "plt.title(\"Loss Function and Accuracy\")\n",
        "plt.ylabel(\"Loss & and Accuracy\")\n",
        "plt.xlabel(\"Images\")\n",
        "plt.plot(losses)\n",
        "plt.plot(accuracy)\n",
        "plt.show()"
      ]
    },
    {
      "cell_type": "markdown",
      "metadata": {
        "id": "aKBkwHXyOV23"
      },
      "source": [
        "## Save the trained model to be used for testing and validation\n"
      ]
    },
    {
      "cell_type": "code",
      "execution_count": null,
      "metadata": {
        "colab": {
          "base_uri": "https://localhost:8080/"
        },
        "id": "sqTL00rJSKQg",
        "outputId": "2a0a46b3-5855-4557-fc16-c11fe34cadd9"
      },
      "outputs": [
        {
          "name": "stdout",
          "output_type": "stream",
          "text": [
            "saved model!\n"
          ]
        }
      ],
      "source": [
        "# Save the trained model\n",
        "torch.save(model, 'trained_model.pt')\n",
        "print(\"saved model!\")"
      ]
    },
    {
      "cell_type": "markdown",
      "metadata": {
        "id": "m2gPUTurOfx1"
      },
      "source": [
        "##Load the model for testing"
      ]
    },
    {
      "cell_type": "code",
      "execution_count": null,
      "metadata": {
        "colab": {
          "base_uri": "https://localhost:8080/"
        },
        "id": "Cva4auMruHiR",
        "outputId": "50e59a43-e067-45a7-e06a-2a1531435681"
      },
      "outputs": [
        {
          "name": "stdout",
          "output_type": "stream",
          "text": [
            "Loaded model!\n"
          ]
        }
      ],
      "source": [
        "#load the model\n",
        "model_trained = torch.load('trained_model.pt')\n",
        "print(\"Loaded model!\")"
      ]
    },
    {
      "cell_type": "markdown",
      "metadata": {
        "id": "QpZ454KTOpbR"
      },
      "source": [
        "## Test the model"
      ]
    },
    {
      "cell_type": "code",
      "execution_count": null,
      "metadata": {
        "colab": {
          "base_uri": "https://localhost:8080/"
        },
        "id": "7wtLM0C9rxrJ",
        "outputId": "ac132b13-2c9e-4038-c2cf-ff533cfb865f"
      },
      "outputs": [
        {
          "name": "stdout",
          "output_type": "stream",
          "text": [
            "Accuracy of the network on the test images: 88 %\n"
          ]
        }
      ],
      "source": [
        "#test the model with the test set\n",
        "correct = 0\n",
        "total = 0\n",
        "# since we're not training, we don't need to calculate the gradients for our outputs\n",
        "with torch.no_grad():\n",
        "    for images, labels in test_loader:\n",
        "        # calculate outputs by running images through the network\n",
        "        outputs = model_trained(images)\n",
        "        # the class with the highest energy is what we choose as prediction\n",
        "        _, predicted = torch.max(outputs.data, 1)\n",
        "        total += labels.size(0)\n",
        "        correct += (predicted == labels).sum().item()\n",
        "\n",
        "print(f'Accuracy of the network on the test images: {100 * correct // total} %')"
      ]
    },
    {
      "cell_type": "markdown",
      "metadata": {
        "id": "NsMQZeHLO4kA"
      },
      "source": [
        "## Show the images with the predictive labels"
      ]
    },
    {
      "cell_type": "code",
      "execution_count": null,
      "metadata": {
        "colab": {
          "base_uri": "https://localhost:8080/",
          "height": 1000
        },
        "id": "9Zt8k2c7yGw2",
        "outputId": "df610a5c-6e44-48be-e390-dba3d57b2cfe"
      },
      "outputs": [
        {
          "data": {
            "image/png": "[encoded data removed]",
            "text/plain": [
              "<PIL.Image.Image image mode=RGB size=30x30>"
            ]
          },
          "metadata": {},
          "output_type": "display_data"
        },
        {
          "name": "stdout",
          "output_type": "stream",
          "text": [
            "left_look\n"
          ]
        },
        {
          "data": {
            "image/png": "[encoded data removed]",
            "text/plain": [
              "<PIL.Image.Image image mode=RGB size=30x30>"
            ]
          },
          "metadata": {},
          "output_type": "display_data"
        },
        {
          "name": "stdout",
          "output_type": "stream",
          "text": [
            "close_look\n"
          ]
        },
        {
          "data": {
            "image/png": "[encoded data removed]",
            "text/plain": [
              "<PIL.Image.Image image mode=RGB size=30x30>"
            ]
          },
          "metadata": {},
          "output_type": "display_data"
        },
        {
          "name": "stdout",
          "output_type": "stream",
          "text": [
            "left_look\n"
          ]
        },
        {
          "data": {
            "image/png": "[encoded data removed]",
            "text/plain": [
              "<PIL.Image.Image image mode=RGB size=30x30>"
            ]
          },
          "metadata": {},
          "output_type": "display_data"
        },
        {
          "name": "stdout",
          "output_type": "stream",
          "text": [
            "right_look\n"
          ]
        },
        {
          "data": {
            "image/png": "[encoded data removed]",
            "text/plain": [
              "<PIL.Image.Image image mode=RGB size=30x30>"
            ]
          },
          "metadata": {},
          "output_type": "display_data"
        },
        {
          "name": "stdout",
          "output_type": "stream",
          "text": [
            "right_look\n"
          ]
        },
        {
          "data": {
            "image/png": "[encoded data removed]",
            "text/plain": [
              "<PIL.Image.Image image mode=RGB size=30x30>"
            ]
          },
          "metadata": {},
          "output_type": "display_data"
        },
        {
          "name": "stdout",
          "output_type": "stream",
          "text": [
            "close_look\n"
          ]
        },
        {
          "data": {
            "image/png": "[encoded data removed]",
            "text/plain": [
              "<PIL.Image.Image image mode=RGB size=30x30>"
            ]
          },
          "metadata": {},
          "output_type": "display_data"
        },
        {
          "name": "stdout",
          "output_type": "stream",
          "text": [
            "forward_look\n"
          ]
        },
        {
          "data": {
            "image/png": "[encoded data removed]",
            "text/plain": [
              "<PIL.Image.Image image mode=RGB size=30x30>"
            ]
          },
          "metadata": {},
          "output_type": "display_data"
        },
        {
          "name": "stdout",
          "output_type": "stream",
          "text": [
            "right_look\n"
          ]
        },
        {
          "data": {
            "image/png": "[encoded data removed]",
            "text/plain": [
              "<PIL.Image.Image image mode=RGB size=30x30>"
            ]
          },
          "metadata": {},
          "output_type": "display_data"
        },
        {
          "name": "stdout",
          "output_type": "stream",
          "text": [
            "forward_look\n"
          ]
        },
        {
          "data": {
            "image/png": "[encoded data removed]",
            "text/plain": [
              "<PIL.Image.Image image mode=RGB size=30x30>"
            ]
          },
          "metadata": {},
          "output_type": "display_data"
        },
        {
          "name": "stdout",
          "output_type": "stream",
          "text": [
            "left_look\n"
          ]
        },
        {
          "data": {
            "image/png": "[encoded data removed]",
            "text/plain": [
              "<PIL.Image.Image image mode=RGB size=30x30>"
            ]
          },
          "metadata": {},
          "output_type": "display_data"
        },
        {
          "name": "stdout",
          "output_type": "stream",
          "text": [
            "left_look\n"
          ]
        },
        {
          "data": {
            "image/png": "[encoded data removed]",
            "text/plain": [
              "<PIL.Image.Image image mode=RGB size=30x30>"
            ]
          },
          "metadata": {},
          "output_type": "display_data"
        },
        {
          "name": "stdout",
          "output_type": "stream",
          "text": [
            "forward_look\n"
          ]
        },
        {
          "data": {
            "image/png": "[encoded data removed]",
            "text/plain": [
              "<PIL.Image.Image image mode=RGB size=30x30>"
            ]
          },
          "metadata": {},
          "output_type": "display_data"
        },
        {
          "name": "stdout",
          "output_type": "stream",
          "text": [
            "left_look\n"
          ]
        },
        {
          "data": {
            "image/png": "[encoded data removed]",
            "text/plain": [
              "<PIL.Image.Image image mode=RGB size=30x30>"
            ]
          },
          "metadata": {},
          "output_type": "display_data"
        },
        {
          "name": "stdout",
          "output_type": "stream",
          "text": [
            "forward_look\n"
          ]
        },
        {
          "data": {
            "image/png": "[encoded data removed]",
            "text/plain": [
              "<PIL.Image.Image image mode=RGB size=30x30>"
            ]
          },
          "metadata": {},
          "output_type": "display_data"
        },
        {
          "name": "stdout",
          "output_type": "stream",
          "text": [
            "close_look\n"
          ]
        },
        {
          "data": {
            "image/png": "[encoded data removed]",
            "text/plain": [
              "<PIL.Image.Image image mode=RGB size=30x30>"
            ]
          },
          "metadata": {},
          "output_type": "display_data"
        },
        {
          "name": "stdout",
          "output_type": "stream",
          "text": [
            "right_look\n"
          ]
        },
        {
          "data": {
            "image/png": "[encoded data removed]",
            "text/plain": [
              "<PIL.Image.Image image mode=RGB size=30x30>"
            ]
          },
          "metadata": {},
          "output_type": "display_data"
        },
        {
          "name": "stdout",
          "output_type": "stream",
          "text": [
            "forward_look\n"
          ]
        },
        {
          "data": {
            "image/png": "[encoded data removed]",
            "text/plain": [
              "<PIL.Image.Image image mode=RGB size=30x30>"
            ]
          },
          "metadata": {},
          "output_type": "display_data"
        },
        {
          "name": "stdout",
          "output_type": "stream",
          "text": [
            "forward_look\n"
          ]
        },
        {
          "data": {
            "image/png": "[encoded data removed]",
            "text/plain": [
              "<PIL.Image.Image image mode=RGB size=30x30>"
            ]
          },
          "metadata": {},
          "output_type": "display_data"
        },
        {
          "name": "stdout",
          "output_type": "stream",
          "text": [
            "right_look\n"
          ]
        },
        {
          "data": {
            "image/png": "[encoded data removed]",
            "text/plain": [
              "<PIL.Image.Image image mode=RGB size=30x30>"
            ]
          },
          "metadata": {},
          "output_type": "display_data"
        },
        {
          "name": "stdout",
          "output_type": "stream",
          "text": [
            "close_look\n"
          ]
        },
        {
          "data": {
            "image/png": "[encoded data removed]",
            "text/plain": [
              "<PIL.Image.Image image mode=RGB size=30x30>"
            ]
          },
          "metadata": {},
          "output_type": "display_data"
        },
        {
          "name": "stdout",
          "output_type": "stream",
          "text": [
            "right_look\n"
          ]
        },
        {
          "data": {
            "image/png": "[encoded data removed]",
            "text/plain": [
              "<PIL.Image.Image image mode=RGB size=30x30>"
            ]
          },
          "metadata": {},
          "output_type": "display_data"
        },
        {
          "name": "stdout",
          "output_type": "stream",
          "text": [
            "left_look\n"
          ]
        },
        {
          "data": {
            "image/png": "[encoded data removed]",
            "text/plain": [
              "<PIL.Image.Image image mode=RGB size=30x30>"
            ]
          },
          "metadata": {},
          "output_type": "display_data"
        },
        {
          "name": "stdout",
          "output_type": "stream",
          "text": [
            "close_look\n"
          ]
        },
        {
          "data": {
            "image/png": "[encoded data removed]",
            "text/plain": [
              "<PIL.Image.Image image mode=RGB size=30x30>"
            ]
          },
          "metadata": {},
          "output_type": "display_data"
        },
        {
          "name": "stdout",
          "output_type": "stream",
          "text": [
            "forward_look\n"
          ]
        },
        {
          "data": {
            "image/png": "[encoded data removed]",
            "text/plain": [
              "<PIL.Image.Image image mode=RGB size=30x30>"
            ]
          },
          "metadata": {},
          "output_type": "display_data"
        },
        {
          "name": "stdout",
          "output_type": "stream",
          "text": [
            "right_look\n"
          ]
        },
        {
          "data": {
            "image/png": "[encoded data removed]",
            "text/plain": [
              "<PIL.Image.Image image mode=RGB size=30x30>"
            ]
          },
          "metadata": {},
          "output_type": "display_data"
        },
        {
          "name": "stdout",
          "output_type": "stream",
          "text": [
            "left_look\n"
          ]
        },
        {
          "data": {
            "image/png": "[encoded data removed]",
            "text/plain": [
              "<PIL.Image.Image image mode=RGB size=30x30>"
            ]
          },
          "metadata": {},
          "output_type": "display_data"
        },
        {
          "name": "stdout",
          "output_type": "stream",
          "text": [
            "left_look\n"
          ]
        },
        {
          "data": {
            "image/png": "[encoded data removed]",
            "text/plain": [
              "<PIL.Image.Image image mode=RGB size=30x30>"
            ]
          },
          "metadata": {},
          "output_type": "display_data"
        },
        {
          "name": "stdout",
          "output_type": "stream",
          "text": [
            "left_look\n"
          ]
        },
        {
          "data": {
            "image/png": "[encoded data removed]",
            "text/plain": [
              "<PIL.Image.Image image mode=RGB size=30x30>"
            ]
          },
          "metadata": {},
          "output_type": "display_data"
        },
        {
          "name": "stdout",
          "output_type": "stream",
          "text": [
            "close_look\n"
          ]
        },
        {
          "data": {
            "image/png": "[encoded data removed]",
            "text/plain": [
              "<PIL.Image.Image image mode=RGB size=30x30>"
            ]
          },
          "metadata": {},
          "output_type": "display_data"
        },
        {
          "name": "stdout",
          "output_type": "stream",
          "text": [
            "forward_look\n"
          ]
        },
        {
          "data": {
            "image/png": "[encoded data removed]",
            "text/plain": [
              "<PIL.Image.Image image mode=RGB size=30x30>"
            ]
          },
          "metadata": {},
          "output_type": "display_data"
        },
        {
          "name": "stdout",
          "output_type": "stream",
          "text": [
            "close_look\n"
          ]
        },
        {
          "data": {
            "image/png": "[encoded data removed]",
            "text/plain": [
              "<PIL.Image.Image image mode=RGB size=30x30>"
            ]
          },
          "metadata": {},
          "output_type": "display_data"
        },
        {
          "name": "stdout",
          "output_type": "stream",
          "text": [
            "close_look\n"
          ]
        },
        {
          "data": {
            "image/png": "[encoded data removed]",
            "text/plain": [
              "<PIL.Image.Image image mode=RGB size=30x30>"
            ]
          },
          "metadata": {},
          "output_type": "display_data"
        },
        {
          "name": "stdout",
          "output_type": "stream",
          "text": [
            "left_look\n"
          ]
        },
        {
          "data": {
            "image/png": "[encoded data removed]",
            "text/plain": [
              "<PIL.Image.Image image mode=RGB size=30x30>"
            ]
          },
          "metadata": {},
          "output_type": "display_data"
        },
        {
          "name": "stdout",
          "output_type": "stream",
          "text": [
            "left_look\n"
          ]
        },
        {
          "data": {
            "image/png": "[encoded data removed]",
            "text/plain": [
              "<PIL.Image.Image image mode=RGB size=30x30>"
            ]
          },
          "metadata": {},
          "output_type": "display_data"
        },
        {
          "name": "stdout",
          "output_type": "stream",
          "text": [
            "close_look\n"
          ]
        },
        {
          "data": {
            "image/png": "[encoded data removed]",
            "text/plain": [
              "<PIL.Image.Image image mode=RGB size=30x30>"
            ]
          },
          "metadata": {},
          "output_type": "display_data"
        },
        {
          "name": "stdout",
          "output_type": "stream",
          "text": [
            "left_look\n"
          ]
        },
        {
          "data": {
            "image/png": "[encoded data removed]",
            "text/plain": [
              "<PIL.Image.Image image mode=RGB size=30x30>"
            ]
          },
          "metadata": {},
          "output_type": "display_data"
        },
        {
          "name": "stdout",
          "output_type": "stream",
          "text": [
            "right_look\n"
          ]
        },
        {
          "data": {
            "image/png": "[encoded data removed]",
            "text/plain": [
              "<PIL.Image.Image image mode=RGB size=30x30>"
            ]
          },
          "metadata": {},
          "output_type": "display_data"
        },
        {
          "name": "stdout",
          "output_type": "stream",
          "text": [
            "close_look\n"
          ]
        },
        {
          "data": {
            "image/png": "[encoded data removed]",
            "text/plain": [
              "<PIL.Image.Image image mode=RGB size=30x30>"
            ]
          },
          "metadata": {},
          "output_type": "display_data"
        },
        {
          "name": "stdout",
          "output_type": "stream",
          "text": [
            "forward_look\n"
          ]
        },
        {
          "data": {
            "image/png": "[encoded data removed]",
            "text/plain": [
              "<PIL.Image.Image image mode=RGB size=30x30>"
            ]
          },
          "metadata": {},
          "output_type": "display_data"
        },
        {
          "name": "stdout",
          "output_type": "stream",
          "text": [
            "right_look\n"
          ]
        },
        {
          "data": {
            "image/png": "[encoded data removed]",
            "text/plain": [
              "<PIL.Image.Image image mode=RGB size=30x30>"
            ]
          },
          "metadata": {},
          "output_type": "display_data"
        },
        {
          "name": "stdout",
          "output_type": "stream",
          "text": [
            "left_look\n"
          ]
        },
        {
          "data": {
            "image/png": "[encoded data removed]",
            "text/plain": [
              "<PIL.Image.Image image mode=RGB size=30x30>"
            ]
          },
          "metadata": {},
          "output_type": "display_data"
        },
        {
          "name": "stdout",
          "output_type": "stream",
          "text": [
            "forward_look\n"
          ]
        },
        {
          "data": {
            "image/png": "[encoded data removed]",
            "text/plain": [
              "<PIL.Image.Image image mode=RGB size=30x30>"
            ]
          },
          "metadata": {},
          "output_type": "display_data"
        },
        {
          "name": "stdout",
          "output_type": "stream",
          "text": [
            "forward_look\n"
          ]
        },
        {
          "data": {
            "image/png": "[encoded data removed]",
            "text/plain": [
              "<PIL.Image.Image image mode=RGB size=30x30>"
            ]
          },
          "metadata": {},
          "output_type": "display_data"
        },
        {
          "name": "stdout",
          "output_type": "stream",
          "text": [
            "right_look\n"
          ]
        },
        {
          "data": {
            "image/png": "[encoded data removed]",
            "text/plain": [
              "<PIL.Image.Image image mode=RGB size=30x30>"
            ]
          },
          "metadata": {},
          "output_type": "display_data"
        },
        {
          "name": "stdout",
          "output_type": "stream",
          "text": [
            "right_look\n"
          ]
        },
        {
          "data": {
            "image/png": "[encoded data removed]",
            "text/plain": [
              "<PIL.Image.Image image mode=RGB size=30x30>"
            ]
          },
          "metadata": {},
          "output_type": "display_data"
        },
        {
          "name": "stdout",
          "output_type": "stream",
          "text": [
            "right_look\n"
          ]
        },
        {
          "data": {
            "image/png": "[encoded data removed]",
            "text/plain": [
              "<PIL.Image.Image image mode=RGB size=30x30>"
            ]
          },
          "metadata": {},
          "output_type": "display_data"
        },
        {
          "name": "stdout",
          "output_type": "stream",
          "text": [
            "forward_look\n"
          ]
        },
        {
          "data": {
            "image/png": "[encoded data removed]",
            "text/plain": [
              "<PIL.Image.Image image mode=RGB size=30x30>"
            ]
          },
          "metadata": {},
          "output_type": "display_data"
        },
        {
          "name": "stdout",
          "output_type": "stream",
          "text": [
            "close_look\n"
          ]
        },
        {
          "data": {
            "image/png": "[encoded data removed]",
            "text/plain": [
              "<PIL.Image.Image image mode=RGB size=30x30>"
            ]
          },
          "metadata": {},
          "output_type": "display_data"
        },
        {
          "name": "stdout",
          "output_type": "stream",
          "text": [
            "right_look\n"
          ]
        },
        {
          "data": {
            "image/png": "[encoded data removed]",
            "text/plain": [
              "<PIL.Image.Image image mode=RGB size=30x30>"
            ]
          },
          "metadata": {},
          "output_type": "display_data"
        },
        {
          "name": "stdout",
          "output_type": "stream",
          "text": [
            "left_look\n"
          ]
        },
        {
          "data": {
            "image/png": "[encoded data removed]",
            "text/plain": [
              "<PIL.Image.Image image mode=RGB size=30x30>"
            ]
          },
          "metadata": {},
          "output_type": "display_data"
        },
        {
          "name": "stdout",
          "output_type": "stream",
          "text": [
            "right_look\n"
          ]
        },
        {
          "data": {
            "image/png": "[encoded data removed]",
            "text/plain": [
              "<PIL.Image.Image image mode=RGB size=30x30>"
            ]
          },
          "metadata": {},
          "output_type": "display_data"
        },
        {
          "name": "stdout",
          "output_type": "stream",
          "text": [
            "left_look\n"
          ]
        },
        {
          "data": {
            "image/png": "[encoded data removed]",
            "text/plain": [
              "<PIL.Image.Image image mode=RGB size=30x30>"
            ]
          },
          "metadata": {},
          "output_type": "display_data"
        },
        {
          "name": "stdout",
          "output_type": "stream",
          "text": [
            "left_look\n"
          ]
        },
        {
          "data": {
            "image/png": "[encoded data removed]",
            "text/plain": [
              "<PIL.Image.Image image mode=RGB size=30x30>"
            ]
          },
          "metadata": {},
          "output_type": "display_data"
        },
        {
          "name": "stdout",
          "output_type": "stream",
          "text": [
            "forward_look\n"
          ]
        },
        {
          "data": {
            "image/png": "[encoded data removed]",
            "text/plain": [
              "<PIL.Image.Image image mode=RGB size=30x30>"
            ]
          },
          "metadata": {},
          "output_type": "display_data"
        },
        {
          "name": "stdout",
          "output_type": "stream",
          "text": [
            "right_look\n"
          ]
        },
        {
          "data": {
            "image/png": "[encoded data removed]",
            "text/plain": [
              "<PIL.Image.Image image mode=RGB size=30x30>"
            ]
          },
          "metadata": {},
          "output_type": "display_data"
        },
        {
          "name": "stdout",
          "output_type": "stream",
          "text": [
            "forward_look\n"
          ]
        },
        {
          "data": {
            "image/png": "[encoded data removed]",
            "text/plain": [
              "<PIL.Image.Image image mode=RGB size=30x30>"
            ]
          },
          "metadata": {},
          "output_type": "display_data"
        },
        {
          "name": "stdout",
          "output_type": "stream",
          "text": [
            "right_look\n"
          ]
        },
        {
          "data": {
            "image/png": "[encoded data removed]",
            "text/plain": [
              "<PIL.Image.Image image mode=RGB size=30x30>"
            ]
          },
          "metadata": {},
          "output_type": "display_data"
        },
        {
          "name": "stdout",
          "output_type": "stream",
          "text": [
            "right_look\n"
          ]
        },
        {
          "data": {
            "image/png": "[encoded data removed]",
            "text/plain": [
              "<PIL.Image.Image image mode=RGB size=30x30>"
            ]
          },
          "metadata": {},
          "output_type": "display_data"
        },
        {
          "name": "stdout",
          "output_type": "stream",
          "text": [
            "right_look\n"
          ]
        },
        {
          "data": {
            "image/png": "[encoded data removed]",
            "text/plain": [
              "<PIL.Image.Image image mode=RGB size=30x30>"
            ]
          },
          "metadata": {},
          "output_type": "display_data"
        },
        {
          "name": "stdout",
          "output_type": "stream",
          "text": [
            "left_look\n"
          ]
        },
        {
          "data": {
            "image/png": "[encoded data removed]",
            "text/plain": [
              "<PIL.Image.Image image mode=RGB size=30x30>"
            ]
          },
          "metadata": {},
          "output_type": "display_data"
        },
        {
          "name": "stdout",
          "output_type": "stream",
          "text": [
            "close_look\n"
          ]
        },
        {
          "data": {
            "image/png": "[encoded data removed]",
            "text/plain": [
              "<PIL.Image.Image image mode=RGB size=30x30>"
            ]
          },
          "metadata": {},
          "output_type": "display_data"
        },
        {
          "name": "stdout",
          "output_type": "stream",
          "text": [
            "left_look\n"
          ]
        },
        {
          "data": {
            "image/png": "[encoded data removed]",
            "text/plain": [
              "<PIL.Image.Image image mode=RGB size=30x30>"
            ]
          },
          "metadata": {},
          "output_type": "display_data"
        },
        {
          "name": "stdout",
          "output_type": "stream",
          "text": [
            "forward_look\n"
          ]
        },
        {
          "data": {
            "image/png": "[encoded data removed]",
            "text/plain": [
              "<PIL.Image.Image image mode=RGB size=30x30>"
            ]
          },
          "metadata": {},
          "output_type": "display_data"
        },
        {
          "name": "stdout",
          "output_type": "stream",
          "text": [
            "forward_look\n"
          ]
        },
        {
          "data": {
            "image/png": "[encoded data removed]",
            "text/plain": [
              "<PIL.Image.Image image mode=RGB size=30x30>"
            ]
          },
          "metadata": {},
          "output_type": "display_data"
        },
        {
          "name": "stdout",
          "output_type": "stream",
          "text": [
            "close_look\n"
          ]
        },
        {
          "data": {
            "image/png": "[encoded data removed]",
            "text/plain": [
              "<PIL.Image.Image image mode=RGB size=30x30>"
            ]
          },
          "metadata": {},
          "output_type": "display_data"
        },
        {
          "name": "stdout",
          "output_type": "stream",
          "text": [
            "right_look\n"
          ]
        },
        {
          "data": {
            "image/png": "[encoded data removed]",
            "text/plain": [
              "<PIL.Image.Image image mode=RGB size=30x30>"
            ]
          },
          "metadata": {},
          "output_type": "display_data"
        },
        {
          "name": "stdout",
          "output_type": "stream",
          "text": [
            "forward_look\n"
          ]
        },
        {
          "data": {
            "image/png": "[encoded data removed]",
            "text/plain": [
              "<PIL.Image.Image image mode=RGB size=30x30>"
            ]
          },
          "metadata": {},
          "output_type": "display_data"
        },
        {
          "name": "stdout",
          "output_type": "stream",
          "text": [
            "forward_look\n"
          ]
        },
        {
          "data": {
            "image/png": "[encoded data removed]",
            "text/plain": [
              "<PIL.Image.Image image mode=RGB size=30x30>"
            ]
          },
          "metadata": {},
          "output_type": "display_data"
        },
        {
          "name": "stdout",
          "output_type": "stream",
          "text": [
            "close_look\n"
          ]
        },
        {
          "data": {
            "image/png": "[encoded data removed]",
            "text/plain": [
              "<PIL.Image.Image image mode=RGB size=30x30>"
            ]
          },
          "metadata": {},
          "output_type": "display_data"
        },
        {
          "name": "stdout",
          "output_type": "stream",
          "text": [
            "left_look\n"
          ]
        },
        {
          "data": {
            "image/png": "[encoded data removed]",
            "text/plain": [
              "<PIL.Image.Image image mode=RGB size=30x30>"
            ]
          },
          "metadata": {},
          "output_type": "display_data"
        },
        {
          "name": "stdout",
          "output_type": "stream",
          "text": [
            "close_look\n"
          ]
        },
        {
          "data": {
            "image/png": "[encoded data removed]",
            "text/plain": [
              "<PIL.Image.Image image mode=RGB size=30x30>"
            ]
          },
          "metadata": {},
          "output_type": "display_data"
        },
        {
          "name": "stdout",
          "output_type": "stream",
          "text": [
            "right_look\n"
          ]
        },
        {
          "data": {
            "image/png": "[encoded data removed]",
            "text/plain": [
              "<PIL.Image.Image image mode=RGB size=30x30>"
            ]
          },
          "metadata": {},
          "output_type": "display_data"
        },
        {
          "name": "stdout",
          "output_type": "stream",
          "text": [
            "left_look\n"
          ]
        },
        {
          "data": {
            "image/png": "[encoded data removed]",
            "text/plain": [
              "<PIL.Image.Image image mode=RGB size=30x30>"
            ]
          },
          "metadata": {},
          "output_type": "display_data"
        },
        {
          "name": "stdout",
          "output_type": "stream",
          "text": [
            "right_look\n"
          ]
        },
        {
          "data": {
            "image/png": "[encoded data removed]",
            "text/plain": [
              "<PIL.Image.Image image mode=RGB size=30x30>"
            ]
          },
          "metadata": {},
          "output_type": "display_data"
        },
        {
          "name": "stdout",
          "output_type": "stream",
          "text": [
            "right_look\n"
          ]
        },
        {
          "data": {
            "image/png": "[encoded data removed]",
            "text/plain": [
              "<PIL.Image.Image image mode=RGB size=30x30>"
            ]
          },
          "metadata": {},
          "output_type": "display_data"
        },
        {
          "name": "stdout",
          "output_type": "stream",
          "text": [
            "right_look\n"
          ]
        },
        {
          "data": {
            "image/png": "[encoded data removed]",
            "text/plain": [
              "<PIL.Image.Image image mode=RGB size=30x30>"
            ]
          },
          "metadata": {},
          "output_type": "display_data"
        },
        {
          "name": "stdout",
          "output_type": "stream",
          "text": [
            "forward_look\n"
          ]
        },
        {
          "data": {
            "image/png": "[encoded data removed]",
            "text/plain": [
              "<PIL.Image.Image image mode=RGB size=30x30>"
            ]
          },
          "metadata": {},
          "output_type": "display_data"
        },
        {
          "name": "stdout",
          "output_type": "stream",
          "text": [
            "right_look\n"
          ]
        },
        {
          "data": {
            "image/png": "[encoded data removed]",
            "text/plain": [
              "<PIL.Image.Image image mode=RGB size=30x30>"
            ]
          },
          "metadata": {},
          "output_type": "display_data"
        },
        {
          "name": "stdout",
          "output_type": "stream",
          "text": [
            "right_look\n"
          ]
        },
        {
          "data": {
            "image/png": "[encoded data removed]",
            "text/plain": [
              "<PIL.Image.Image image mode=RGB size=30x30>"
            ]
          },
          "metadata": {},
          "output_type": "display_data"
        },
        {
          "name": "stdout",
          "output_type": "stream",
          "text": [
            "close_look\n"
          ]
        },
        {
          "data": {
            "image/png": "[encoded data removed]",
            "text/plain": [
              "<PIL.Image.Image image mode=RGB size=30x30>"
            ]
          },
          "metadata": {},
          "output_type": "display_data"
        },
        {
          "name": "stdout",
          "output_type": "stream",
          "text": [
            "left_look\n"
          ]
        },
        {
          "data": {
            "image/png": "[encoded data removed]",
            "text/plain": [
              "<PIL.Image.Image image mode=RGB size=30x30>"
            ]
          },
          "metadata": {},
          "output_type": "display_data"
        },
        {
          "name": "stdout",
          "output_type": "stream",
          "text": [
            "right_look\n"
          ]
        },
        {
          "data": {
            "image/png": "[encoded data removed]",
            "text/plain": [
              "<PIL.Image.Image image mode=RGB size=30x30>"
            ]
          },
          "metadata": {},
          "output_type": "display_data"
        },
        {
          "name": "stdout",
          "output_type": "stream",
          "text": [
            "right_look\n"
          ]
        },
        {
          "data": {
            "image/png": "[encoded data removed]",
            "text/plain": [
              "<PIL.Image.Image image mode=RGB size=30x30>"
            ]
          },
          "metadata": {},
          "output_type": "display_data"
        },
        {
          "name": "stdout",
          "output_type": "stream",
          "text": [
            "close_look\n"
          ]
        },
        {
          "data": {
            "image/png": "[encoded data removed]",
            "text/plain": [
              "<PIL.Image.Image image mode=RGB size=30x30>"
            ]
          },
          "metadata": {},
          "output_type": "display_data"
        },
        {
          "name": "stdout",
          "output_type": "stream",
          "text": [
            "close_look\n"
          ]
        },
        {
          "data": {
            "image/png": "[encoded data removed]",
            "text/plain": [
              "<PIL.Image.Image image mode=RGB size=30x30>"
            ]
          },
          "metadata": {},
          "output_type": "display_data"
        },
        {
          "name": "stdout",
          "output_type": "stream",
          "text": [
            "close_look\n"
          ]
        },
        {
          "data": {
            "image/png": "[encoded data removed]",
            "text/plain": [
              "<PIL.Image.Image image mode=RGB size=30x30>"
            ]
          },
          "metadata": {},
          "output_type": "display_data"
        },
        {
          "name": "stdout",
          "output_type": "stream",
          "text": [
            "forward_look\n"
          ]
        },
        {
          "data": {
            "image/png": "[encoded data removed]",
            "text/plain": [
              "<PIL.Image.Image image mode=RGB size=30x30>"
            ]
          },
          "metadata": {},
          "output_type": "display_data"
        },
        {
          "name": "stdout",
          "output_type": "stream",
          "text": [
            "close_look\n"
          ]
        },
        {
          "data": {
            "image/png": "[encoded data removed]",
            "text/plain": [
              "<PIL.Image.Image image mode=RGB size=30x30>"
            ]
          },
          "metadata": {},
          "output_type": "display_data"
        },
        {
          "name": "stdout",
          "output_type": "stream",
          "text": [
            "right_look\n"
          ]
        },
        {
          "data": {
            "image/png": "[encoded data removed]",
            "text/plain": [
              "<PIL.Image.Image image mode=RGB size=30x30>"
            ]
          },
          "metadata": {},
          "output_type": "display_data"
        },
        {
          "name": "stdout",
          "output_type": "stream",
          "text": [
            "right_look\n"
          ]
        },
        {
          "data": {
            "image/png": "[encoded data removed]",
            "text/plain": [
              "<PIL.Image.Image image mode=RGB size=30x30>"
            ]
          },
          "metadata": {},
          "output_type": "display_data"
        },
        {
          "name": "stdout",
          "output_type": "stream",
          "text": [
            "left_look\n"
          ]
        },
        {
          "data": {
            "image/png": "[encoded data removed]",
            "text/plain": [
              "<PIL.Image.Image image mode=RGB size=30x30>"
            ]
          },
          "metadata": {},
          "output_type": "display_data"
        },
        {
          "name": "stdout",
          "output_type": "stream",
          "text": [
            "forward_look\n"
          ]
        },
        {
          "data": {
            "image/png": "[encoded data removed]",
            "text/plain": [
              "<PIL.Image.Image image mode=RGB size=30x30>"
            ]
          },
          "metadata": {},
          "output_type": "display_data"
        },
        {
          "name": "stdout",
          "output_type": "stream",
          "text": [
            "left_look\n"
          ]
        },
        {
          "data": {
            "image/png": "[encoded data removed]",
            "text/plain": [
              "<PIL.Image.Image image mode=RGB size=30x30>"
            ]
          },
          "metadata": {},
          "output_type": "display_data"
        },
        {
          "name": "stdout",
          "output_type": "stream",
          "text": [
            "forward_look\n"
          ]
        },
        {
          "data": {
            "image/png": "[encoded data removed]",
            "text/plain": [
              "<PIL.Image.Image image mode=RGB size=30x30>"
            ]
          },
          "metadata": {},
          "output_type": "display_data"
        },
        {
          "name": "stdout",
          "output_type": "stream",
          "text": [
            "close_look\n"
          ]
        },
        {
          "data": {
            "image/png": "[encoded data removed]",
            "text/plain": [
              "<PIL.Image.Image image mode=RGB size=30x30>"
            ]
          },
          "metadata": {},
          "output_type": "display_data"
        },
        {
          "name": "stdout",
          "output_type": "stream",
          "text": [
            "right_look\n"
          ]
        },
        {
          "data": {
            "image/png": "[encoded data removed]",
            "text/plain": [
              "<PIL.Image.Image image mode=RGB size=30x30>"
            ]
          },
          "metadata": {},
          "output_type": "display_data"
        },
        {
          "name": "stdout",
          "output_type": "stream",
          "text": [
            "forward_look\n"
          ]
        },
        {
          "data": {
            "image/png": "[encoded data removed]",
            "text/plain": [
              "<PIL.Image.Image image mode=RGB size=30x30>"
            ]
          },
          "metadata": {},
          "output_type": "display_data"
        },
        {
          "name": "stdout",
          "output_type": "stream",
          "text": [
            "left_look\n"
          ]
        },
        {
          "data": {
            "image/png": "[encoded data removed]",
            "text/plain": [
              "<PIL.Image.Image image mode=RGB size=30x30>"
            ]
          },
          "metadata": {},
          "output_type": "display_data"
        },
        {
          "name": "stdout",
          "output_type": "stream",
          "text": [
            "forward_look\n"
          ]
        },
        {
          "data": {
            "image/png": "[encoded data removed]",
            "text/plain": [
              "<PIL.Image.Image image mode=RGB size=30x30>"
            ]
          },
          "metadata": {},
          "output_type": "display_data"
        },
        {
          "name": "stdout",
          "output_type": "stream",
          "text": [
            "right_look\n"
          ]
        },
        {
          "ename": "IndexError",
          "evalue": "list index out of range",
          "output_type": "error",
          "traceback": [
            "\u001b[0;31m---------------------------------------------------------------------------\u001b[0m",
            "\u001b[0;31mIndexError\u001b[0m                                Traceback (most recent call last)",
            "\u001b[0;32m<ipython-input-28-4ef92e31404f>\u001b[0m in \u001b[0;36m<cell line: 23>\u001b[0;34m()\u001b[0m\n\u001b[1;32m     31\u001b[0m \u001b[0;34m\u001b[0m\u001b[0m\n\u001b[1;32m     32\u001b[0m     \u001b[0;31m#put the label on the image\u001b[0m\u001b[0;34m\u001b[0m\u001b[0;34m\u001b[0m\u001b[0m\n\u001b[0;32m---> 33\u001b[0;31m     img = cv2.putText(img, labels_str[labels_list[count]], org, font,  \n\u001b[0m\u001b[1;32m     34\u001b[0m                    fontScale, color, thickness, cv2.LINE_AA) \n\u001b[1;32m     35\u001b[0m     \u001b[0;31m#show the image\u001b[0m\u001b[0;34m\u001b[0m\u001b[0;34m\u001b[0m\u001b[0m\n",
            "\u001b[0;31mIndexError\u001b[0m: list index out of range"
          ]
        }
      ],
      "source": [
        "#show the testing set with the predictions (set 20)\n",
        "\n",
        "# dataiter = iter(test_loader)\n",
        "# images, labels = next(dataiter)\n",
        "\n",
        "#what is the len of images and labels\n",
        "#set up for the text labels on the images\n",
        "\n",
        "# font\n",
        "font = cv2.FONT_HERSHEY_SIMPLEX\n",
        "# org\n",
        "org = (5, 5)\n",
        "# fontScale\n",
        "fontScale = 1\n",
        "# Blue color in BGR\n",
        "color = (255, 0, 0)\n",
        "# Line thickness of 2 px\n",
        "thickness = 2\n",
        "\n",
        "labels_str = ('close_look', 'forward_look', 'left_look', 'right_look')\n",
        "\n",
        "count = 0\n",
        "for images, labels in test_loader:\n",
        "  labels_list = labels.flatten().tolist()\n",
        "\n",
        "  for img in images:\n",
        "    torchvision.utils.save_image(img, 'image%d.png' %count)\n",
        "\n",
        "    #read back the image\n",
        "    img = cv2.imread('image%d.png' %count)\n",
        "\n",
        "    #put the label on the image\n",
        "    img = cv2.putText(img, labels_str[labels_list[count]], org, font,\n",
        "                   fontScale, color, thickness, cv2.LINE_AA)\n",
        "    #show the image\n",
        "    cv2_imshow(img)\n",
        "    print(labels_str[labels_list[count]])\n",
        "\n",
        "    count += 1\n",
        "    if count == 20:\n",
        "      break\n",
        "\n"
      ]
    }
  ],
  "metadata": {
    "colab": {
      "collapsed_sections": [
        "wOFyIGWULZLB",
        "Uin359FmNG6-",
        "m2d7RUbGdLtl",
        "aKBkwHXyOV23",
        "m2gPUTurOfx1",
        "QpZ454KTOpbR",
        "NsMQZeHLO4kA"
      ],
      "provenance": []
    },
    "kernelspec": {
      "display_name": "Python 3",
      "name": "python3"
    },
    "language_info": {
      "name": "python"
    }
  },
  "nbformat": 4,
  "nbformat_minor": 0
}
